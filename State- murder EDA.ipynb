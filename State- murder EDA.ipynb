{
 "cells": [
  {
   "cell_type": "code",
   "execution_count": 1,
   "id": "3ba30616-4eb1-4034-9ec2-aa38e1506ee2",
   "metadata": {},
   "outputs": [
    {
     "name": "stdout",
     "output_type": "stream",
     "text": [
      "Requirement already satisfied: wquantiles in c:\\users\\hplap\\.conda\\new folder\\lib\\site-packages (0.6)\n",
      "Requirement already satisfied: numpy>=1.18 in c:\\users\\hplap\\.conda\\new folder\\lib\\site-packages (from wquantiles) (1.26.3)\n"
     ]
    }
   ],
   "source": [
    "!pip install wquantiles"
   ]
  },
  {
   "cell_type": "code",
   "execution_count": 1,
   "id": "6ed5dbc4-55a0-45ad-8034-dc9fa6a148b0",
   "metadata": {},
   "outputs": [],
   "source": [
    "import pandas as pd \n",
    "import numpy as np\n",
    "import matplotlib.pyplot as plt # visulization libaray\n",
    "import seaborn as sns  # visualization libaray\n",
    "from scipy.stats import trim_mean\n",
    "import wquantiles # for calculating the weighted quantiles \n",
    "from statsmodels import robust # for calculating the mean absolute deviation\n"
   ]
  },
  {
   "cell_type": "code",
   "execution_count": 3,
   "id": "ebde2b24-9b88-4879-869c-daec6d8c70a7",
   "metadata": {},
   "outputs": [
    {
     "data": {
      "text/html": [
       "<div>\n",
       "<style scoped>\n",
       "    .dataframe tbody tr th:only-of-type {\n",
       "        vertical-align: middle;\n",
       "    }\n",
       "\n",
       "    .dataframe tbody tr th {\n",
       "        vertical-align: top;\n",
       "    }\n",
       "\n",
       "    .dataframe thead th {\n",
       "        text-align: right;\n",
       "    }\n",
       "</style>\n",
       "<table border=\"1\" class=\"dataframe\">\n",
       "  <thead>\n",
       "    <tr style=\"text-align: right;\">\n",
       "      <th></th>\n",
       "      <th>State</th>\n",
       "      <th>Population</th>\n",
       "      <th>Murder.Rate</th>\n",
       "      <th>Abbreviation</th>\n",
       "    </tr>\n",
       "  </thead>\n",
       "  <tbody>\n",
       "    <tr>\n",
       "      <th>0</th>\n",
       "      <td>Alabama</td>\n",
       "      <td>4779736</td>\n",
       "      <td>5.7</td>\n",
       "      <td>AL</td>\n",
       "    </tr>\n",
       "    <tr>\n",
       "      <th>1</th>\n",
       "      <td>Alaska</td>\n",
       "      <td>710231</td>\n",
       "      <td>5.6</td>\n",
       "      <td>AK</td>\n",
       "    </tr>\n",
       "    <tr>\n",
       "      <th>2</th>\n",
       "      <td>Arizona</td>\n",
       "      <td>6392017</td>\n",
       "      <td>4.7</td>\n",
       "      <td>AZ</td>\n",
       "    </tr>\n",
       "    <tr>\n",
       "      <th>3</th>\n",
       "      <td>Arkansas</td>\n",
       "      <td>2915918</td>\n",
       "      <td>5.6</td>\n",
       "      <td>AR</td>\n",
       "    </tr>\n",
       "    <tr>\n",
       "      <th>4</th>\n",
       "      <td>California</td>\n",
       "      <td>37253956</td>\n",
       "      <td>4.4</td>\n",
       "      <td>CA</td>\n",
       "    </tr>\n",
       "    <tr>\n",
       "      <th>5</th>\n",
       "      <td>Colorado</td>\n",
       "      <td>5029196</td>\n",
       "      <td>2.8</td>\n",
       "      <td>CO</td>\n",
       "    </tr>\n",
       "    <tr>\n",
       "      <th>6</th>\n",
       "      <td>Connecticut</td>\n",
       "      <td>3574097</td>\n",
       "      <td>2.4</td>\n",
       "      <td>CT</td>\n",
       "    </tr>\n",
       "    <tr>\n",
       "      <th>7</th>\n",
       "      <td>Delaware</td>\n",
       "      <td>897934</td>\n",
       "      <td>5.8</td>\n",
       "      <td>DE</td>\n",
       "    </tr>\n",
       "    <tr>\n",
       "      <th>8</th>\n",
       "      <td>Florida</td>\n",
       "      <td>18801310</td>\n",
       "      <td>5.8</td>\n",
       "      <td>FL</td>\n",
       "    </tr>\n",
       "    <tr>\n",
       "      <th>9</th>\n",
       "      <td>Georgia</td>\n",
       "      <td>9687653</td>\n",
       "      <td>5.7</td>\n",
       "      <td>GA</td>\n",
       "    </tr>\n",
       "    <tr>\n",
       "      <th>10</th>\n",
       "      <td>Hawaii</td>\n",
       "      <td>1360301</td>\n",
       "      <td>1.8</td>\n",
       "      <td>HI</td>\n",
       "    </tr>\n",
       "    <tr>\n",
       "      <th>11</th>\n",
       "      <td>Idaho</td>\n",
       "      <td>1567582</td>\n",
       "      <td>2.0</td>\n",
       "      <td>ID</td>\n",
       "    </tr>\n",
       "    <tr>\n",
       "      <th>12</th>\n",
       "      <td>Illinois</td>\n",
       "      <td>12830632</td>\n",
       "      <td>5.3</td>\n",
       "      <td>IL</td>\n",
       "    </tr>\n",
       "    <tr>\n",
       "      <th>13</th>\n",
       "      <td>Indiana</td>\n",
       "      <td>6483802</td>\n",
       "      <td>5.0</td>\n",
       "      <td>IN</td>\n",
       "    </tr>\n",
       "    <tr>\n",
       "      <th>14</th>\n",
       "      <td>Iowa</td>\n",
       "      <td>3046355</td>\n",
       "      <td>1.9</td>\n",
       "      <td>IA</td>\n",
       "    </tr>\n",
       "    <tr>\n",
       "      <th>15</th>\n",
       "      <td>Kansas</td>\n",
       "      <td>2853118</td>\n",
       "      <td>3.1</td>\n",
       "      <td>KS</td>\n",
       "    </tr>\n",
       "    <tr>\n",
       "      <th>16</th>\n",
       "      <td>Kentucky</td>\n",
       "      <td>4339367</td>\n",
       "      <td>3.6</td>\n",
       "      <td>KY</td>\n",
       "    </tr>\n",
       "    <tr>\n",
       "      <th>17</th>\n",
       "      <td>Louisiana</td>\n",
       "      <td>4533372</td>\n",
       "      <td>10.3</td>\n",
       "      <td>LA</td>\n",
       "    </tr>\n",
       "    <tr>\n",
       "      <th>18</th>\n",
       "      <td>Maine</td>\n",
       "      <td>1328361</td>\n",
       "      <td>1.6</td>\n",
       "      <td>ME</td>\n",
       "    </tr>\n",
       "    <tr>\n",
       "      <th>19</th>\n",
       "      <td>Maryland</td>\n",
       "      <td>5773552</td>\n",
       "      <td>6.1</td>\n",
       "      <td>MD</td>\n",
       "    </tr>\n",
       "    <tr>\n",
       "      <th>20</th>\n",
       "      <td>Massachusetts</td>\n",
       "      <td>6547629</td>\n",
       "      <td>2.0</td>\n",
       "      <td>MA</td>\n",
       "    </tr>\n",
       "    <tr>\n",
       "      <th>21</th>\n",
       "      <td>Michigan</td>\n",
       "      <td>9883640</td>\n",
       "      <td>5.4</td>\n",
       "      <td>MI</td>\n",
       "    </tr>\n",
       "    <tr>\n",
       "      <th>22</th>\n",
       "      <td>Minnesota</td>\n",
       "      <td>5303925</td>\n",
       "      <td>1.6</td>\n",
       "      <td>MN</td>\n",
       "    </tr>\n",
       "    <tr>\n",
       "      <th>23</th>\n",
       "      <td>Mississippi</td>\n",
       "      <td>2967297</td>\n",
       "      <td>8.6</td>\n",
       "      <td>MS</td>\n",
       "    </tr>\n",
       "    <tr>\n",
       "      <th>24</th>\n",
       "      <td>Missouri</td>\n",
       "      <td>5988927</td>\n",
       "      <td>6.6</td>\n",
       "      <td>MO</td>\n",
       "    </tr>\n",
       "    <tr>\n",
       "      <th>25</th>\n",
       "      <td>Montana</td>\n",
       "      <td>989415</td>\n",
       "      <td>3.6</td>\n",
       "      <td>MT</td>\n",
       "    </tr>\n",
       "    <tr>\n",
       "      <th>26</th>\n",
       "      <td>Nebraska</td>\n",
       "      <td>1826341</td>\n",
       "      <td>2.9</td>\n",
       "      <td>NE</td>\n",
       "    </tr>\n",
       "    <tr>\n",
       "      <th>27</th>\n",
       "      <td>Nevada</td>\n",
       "      <td>2700551</td>\n",
       "      <td>6.0</td>\n",
       "      <td>NV</td>\n",
       "    </tr>\n",
       "    <tr>\n",
       "      <th>28</th>\n",
       "      <td>New Hampshire</td>\n",
       "      <td>1316470</td>\n",
       "      <td>0.9</td>\n",
       "      <td>NH</td>\n",
       "    </tr>\n",
       "    <tr>\n",
       "      <th>29</th>\n",
       "      <td>New Jersey</td>\n",
       "      <td>8791894</td>\n",
       "      <td>3.9</td>\n",
       "      <td>NJ</td>\n",
       "    </tr>\n",
       "    <tr>\n",
       "      <th>30</th>\n",
       "      <td>New Mexico</td>\n",
       "      <td>2059179</td>\n",
       "      <td>4.8</td>\n",
       "      <td>NM</td>\n",
       "    </tr>\n",
       "    <tr>\n",
       "      <th>31</th>\n",
       "      <td>New York</td>\n",
       "      <td>19378102</td>\n",
       "      <td>3.1</td>\n",
       "      <td>NY</td>\n",
       "    </tr>\n",
       "    <tr>\n",
       "      <th>32</th>\n",
       "      <td>North Carolina</td>\n",
       "      <td>9535483</td>\n",
       "      <td>5.1</td>\n",
       "      <td>NC</td>\n",
       "    </tr>\n",
       "    <tr>\n",
       "      <th>33</th>\n",
       "      <td>North Dakota</td>\n",
       "      <td>672591</td>\n",
       "      <td>3.0</td>\n",
       "      <td>ND</td>\n",
       "    </tr>\n",
       "    <tr>\n",
       "      <th>34</th>\n",
       "      <td>Ohio</td>\n",
       "      <td>11536504</td>\n",
       "      <td>4.0</td>\n",
       "      <td>OH</td>\n",
       "    </tr>\n",
       "    <tr>\n",
       "      <th>35</th>\n",
       "      <td>Oklahoma</td>\n",
       "      <td>3751351</td>\n",
       "      <td>4.5</td>\n",
       "      <td>OK</td>\n",
       "    </tr>\n",
       "    <tr>\n",
       "      <th>36</th>\n",
       "      <td>Oregon</td>\n",
       "      <td>3831074</td>\n",
       "      <td>2.0</td>\n",
       "      <td>OR</td>\n",
       "    </tr>\n",
       "    <tr>\n",
       "      <th>37</th>\n",
       "      <td>Pennsylvania</td>\n",
       "      <td>12702379</td>\n",
       "      <td>4.8</td>\n",
       "      <td>PA</td>\n",
       "    </tr>\n",
       "    <tr>\n",
       "      <th>38</th>\n",
       "      <td>Rhode Island</td>\n",
       "      <td>1052567</td>\n",
       "      <td>2.4</td>\n",
       "      <td>RI</td>\n",
       "    </tr>\n",
       "    <tr>\n",
       "      <th>39</th>\n",
       "      <td>South Carolina</td>\n",
       "      <td>4625364</td>\n",
       "      <td>6.4</td>\n",
       "      <td>SC</td>\n",
       "    </tr>\n",
       "    <tr>\n",
       "      <th>40</th>\n",
       "      <td>South Dakota</td>\n",
       "      <td>814180</td>\n",
       "      <td>2.3</td>\n",
       "      <td>SD</td>\n",
       "    </tr>\n",
       "    <tr>\n",
       "      <th>41</th>\n",
       "      <td>Tennessee</td>\n",
       "      <td>6346105</td>\n",
       "      <td>5.7</td>\n",
       "      <td>TN</td>\n",
       "    </tr>\n",
       "    <tr>\n",
       "      <th>42</th>\n",
       "      <td>Texas</td>\n",
       "      <td>25145561</td>\n",
       "      <td>4.4</td>\n",
       "      <td>TX</td>\n",
       "    </tr>\n",
       "    <tr>\n",
       "      <th>43</th>\n",
       "      <td>Utah</td>\n",
       "      <td>2763885</td>\n",
       "      <td>2.3</td>\n",
       "      <td>UT</td>\n",
       "    </tr>\n",
       "    <tr>\n",
       "      <th>44</th>\n",
       "      <td>Vermont</td>\n",
       "      <td>625741</td>\n",
       "      <td>1.6</td>\n",
       "      <td>VT</td>\n",
       "    </tr>\n",
       "    <tr>\n",
       "      <th>45</th>\n",
       "      <td>Virginia</td>\n",
       "      <td>8001024</td>\n",
       "      <td>4.1</td>\n",
       "      <td>VA</td>\n",
       "    </tr>\n",
       "    <tr>\n",
       "      <th>46</th>\n",
       "      <td>Washington</td>\n",
       "      <td>6724540</td>\n",
       "      <td>2.5</td>\n",
       "      <td>WA</td>\n",
       "    </tr>\n",
       "    <tr>\n",
       "      <th>47</th>\n",
       "      <td>West Virginia</td>\n",
       "      <td>1852994</td>\n",
       "      <td>4.0</td>\n",
       "      <td>WV</td>\n",
       "    </tr>\n",
       "    <tr>\n",
       "      <th>48</th>\n",
       "      <td>Wisconsin</td>\n",
       "      <td>5686986</td>\n",
       "      <td>2.9</td>\n",
       "      <td>WI</td>\n",
       "    </tr>\n",
       "    <tr>\n",
       "      <th>49</th>\n",
       "      <td>Wyoming</td>\n",
       "      <td>563626</td>\n",
       "      <td>2.7</td>\n",
       "      <td>WY</td>\n",
       "    </tr>\n",
       "  </tbody>\n",
       "</table>\n",
       "</div>"
      ],
      "text/plain": [
       "             State  Population  Murder.Rate Abbreviation\n",
       "0          Alabama     4779736          5.7           AL\n",
       "1           Alaska      710231          5.6           AK\n",
       "2          Arizona     6392017          4.7           AZ\n",
       "3         Arkansas     2915918          5.6           AR\n",
       "4       California    37253956          4.4           CA\n",
       "5         Colorado     5029196          2.8           CO\n",
       "6      Connecticut     3574097          2.4           CT\n",
       "7         Delaware      897934          5.8           DE\n",
       "8          Florida    18801310          5.8           FL\n",
       "9          Georgia     9687653          5.7           GA\n",
       "10          Hawaii     1360301          1.8           HI\n",
       "11           Idaho     1567582          2.0           ID\n",
       "12        Illinois    12830632          5.3           IL\n",
       "13         Indiana     6483802          5.0           IN\n",
       "14            Iowa     3046355          1.9           IA\n",
       "15          Kansas     2853118          3.1           KS\n",
       "16        Kentucky     4339367          3.6           KY\n",
       "17       Louisiana     4533372         10.3           LA\n",
       "18           Maine     1328361          1.6           ME\n",
       "19        Maryland     5773552          6.1           MD\n",
       "20   Massachusetts     6547629          2.0           MA\n",
       "21        Michigan     9883640          5.4           MI\n",
       "22       Minnesota     5303925          1.6           MN\n",
       "23     Mississippi     2967297          8.6           MS\n",
       "24        Missouri     5988927          6.6           MO\n",
       "25         Montana      989415          3.6           MT\n",
       "26        Nebraska     1826341          2.9           NE\n",
       "27          Nevada     2700551          6.0           NV\n",
       "28   New Hampshire     1316470          0.9           NH\n",
       "29      New Jersey     8791894          3.9           NJ\n",
       "30      New Mexico     2059179          4.8           NM\n",
       "31        New York    19378102          3.1           NY\n",
       "32  North Carolina     9535483          5.1           NC\n",
       "33    North Dakota      672591          3.0           ND\n",
       "34            Ohio    11536504          4.0           OH\n",
       "35        Oklahoma     3751351          4.5           OK\n",
       "36          Oregon     3831074          2.0           OR\n",
       "37    Pennsylvania    12702379          4.8           PA\n",
       "38    Rhode Island     1052567          2.4           RI\n",
       "39  South Carolina     4625364          6.4           SC\n",
       "40    South Dakota      814180          2.3           SD\n",
       "41       Tennessee     6346105          5.7           TN\n",
       "42           Texas    25145561          4.4           TX\n",
       "43            Utah     2763885          2.3           UT\n",
       "44         Vermont      625741          1.6           VT\n",
       "45        Virginia     8001024          4.1           VA\n",
       "46      Washington     6724540          2.5           WA\n",
       "47   West Virginia     1852994          4.0           WV\n",
       "48       Wisconsin     5686986          2.9           WI\n",
       "49         Wyoming      563626          2.7           WY"
      ]
     },
     "execution_count": 3,
     "metadata": {},
     "output_type": "execute_result"
    }
   ],
   "source": [
    "state=pd.read_csv(\"state.csv\")\n",
    "state"
   ]
  },
  {
   "cell_type": "markdown",
   "id": "4585b2c6-01f8-4e01-890a-5858bd87a835",
   "metadata": {},
   "source": [
    "### Location Estimates of Population and Murder Rates"
   ]
  },
  {
   "cell_type": "code",
   "execution_count": 4,
   "id": "142ffef0-ad9b-49ed-be7a-a97f67228536",
   "metadata": {},
   "outputs": [
    {
     "name": "stdout",
     "output_type": "stream",
     "text": [
      "6162876.3\n",
      "4783697.125\n",
      "4436369.5\n"
     ]
    }
   ],
   "source": [
    "# Compute the mean, trimmed mean, and median for the population\n",
    "\n",
    "print(state['Population'].mean())\n",
    "\n",
    "# trimmed mean\n",
    "print(trim_mean(state['Population'], 0.1)) # 0.1 drops 10% from each end \n",
    "\n",
    "print(state['Population'].median())"
   ]
  },
  {
   "cell_type": "code",
   "execution_count": 5,
   "id": "20ede477-29d4-4105-bdd7-7f16f07f6d3d",
   "metadata": {},
   "outputs": [
    {
     "data": {
      "text/plain": [
       "4.445833981123393"
      ]
     },
     "execution_count": 5,
     "metadata": {},
     "output_type": "execute_result"
    }
   ],
   "source": [
    "#  Weighted mean \n",
    "\n",
    "np.average(state[\"Murder.Rate\"],weights=state[\"Population\"])\n"
   ]
  },
  {
   "cell_type": "code",
   "execution_count": 6,
   "id": "b817ce1d-0c97-4709-b781-bb859009b992",
   "metadata": {},
   "outputs": [
    {
     "data": {
      "text/plain": [
       "4.4"
      ]
     },
     "execution_count": 6,
     "metadata": {},
     "output_type": "execute_result"
    }
   ],
   "source": [
    "# Weighted Median \n",
    "\n",
    "wquantiles.median(state[\"Murder.Rate\"],weights=state[\"Population\"])"
   ]
  },
  {
   "cell_type": "markdown",
   "id": "93b7b00a-755f-4b08-ac1d-4898cdfa75c8",
   "metadata": {},
   "source": [
    "Weighgted mean and Median are same for this case"
   ]
  },
  {
   "cell_type": "markdown",
   "id": "142e05fe-af70-4f22-bd2a-4793388b3530",
   "metadata": {},
   "source": [
    "## Estimates of Variability \n",
    "- also referred to as dispersion, measures whether the data values are tightly clus‐\n",
    "tered or spread out"
   ]
  },
  {
   "cell_type": "code",
   "execution_count": 7,
   "id": "ef526370-7b91-45f0-be4a-c3280ff63899",
   "metadata": {},
   "outputs": [
    {
     "data": {
      "text/plain": [
       "6848235.347401142"
      ]
     },
     "execution_count": 7,
     "metadata": {},
     "output_type": "execute_result"
    }
   ],
   "source": [
    "# Standard deviation \n",
    "\n",
    "state[\"Population\"].std()"
   ]
  },
  {
   "cell_type": "code",
   "execution_count": 8,
   "id": "e4ccbb54-f8e6-46a9-b678-b9a8e28a226e",
   "metadata": {},
   "outputs": [
    {
     "data": {
      "text/plain": [
       "4847308.0"
      ]
     },
     "execution_count": 8,
     "metadata": {},
     "output_type": "execute_result"
    }
   ],
   "source": [
    "# IQR (75th quantile - 25th quantile)\n",
    "\n",
    "state[\"Population\"].quantile(0.75)-state[\"Population\"].quantile(0.25)"
   ]
  },
  {
   "cell_type": "code",
   "execution_count": 9,
   "id": "cd3fb27e-ca1b-4027-b0ad-779611e555cd",
   "metadata": {},
   "outputs": [
    {
     "data": {
      "text/plain": [
       "3849876.1459979336"
      ]
     },
     "execution_count": 9,
     "metadata": {},
     "output_type": "execute_result"
    }
   ],
   "source": [
    "# Robust Median Absolute deviation \n",
    "\n",
    "robust.scale.mad(state[\"Population\"])"
   ]
  },
  {
   "cell_type": "markdown",
   "id": "77f16c49-a5e9-440f-831b-301a8784cc08",
   "metadata": {},
   "source": [
    "The standard deviation is almost twice as large as the MAD"
   ]
  },
  {
   "cell_type": "markdown",
   "id": "c39ffb25-0e04-40ea-9c0f-f2fb46d8cc63",
   "metadata": {},
   "source": [
    "## Exploring The Data Distribution"
   ]
  },
  {
   "cell_type": "markdown",
   "id": "a15c4578-0895-47a9-b66b-ac5a3dd1315a",
   "metadata": {},
   "source": [
    "### Percentiles and Boxplots"
   ]
  },
  {
   "cell_type": "code",
   "execution_count": 10,
   "id": "6fd62787-0926-445e-a5ad-d1f3a092cd9e",
   "metadata": {},
   "outputs": [
    {
     "data": {
      "text/plain": [
       "0.05    1.600\n",
       "0.25    2.425\n",
       "0.50    4.000\n",
       "0.75    5.550\n",
       "0.95    6.510\n",
       "Name: Murder.Rate, dtype: float64"
      ]
     },
     "execution_count": 10,
     "metadata": {},
     "output_type": "execute_result"
    }
   ],
   "source": [
    "state['Murder.Rate'].quantile([0.05, 0.25, 0.5, 0.75, 0.95])"
   ]
  },
  {
   "cell_type": "code",
   "execution_count": 11,
   "id": "b96a7608-9f64-4ccb-88f6-5c94c4d2c63d",
   "metadata": {},
   "outputs": [
    {
     "data": {
      "text/plain": [
       "Text(0, 0.5, 'Population (millions)')"
      ]
     },
     "execution_count": 11,
     "metadata": {},
     "output_type": "execute_result"
    },
    {
     "data": {
      "image/png": "[encoded data removed]",
      "text/plain": [
       "<Figure size 640x480 with 1 Axes>"
      ]
     },
     "metadata": {},
     "output_type": "display_data"
    }
   ],
   "source": [
    "ax = (state['Population']/1_000_000).plot.box()\n",
    "ax.set_ylabel('Population (millions)')"
   ]
  },
  {
   "cell_type": "code",
   "execution_count": 12,
   "id": "ad994fed-2922-42e1-b9b6-25439d27c7d3",
   "metadata": {},
   "outputs": [
    {
     "data": {
      "image/png": "[encoded data removed]",
      "text/plain": [
       "<Figure size 640x480 with 1 Axes>"
      ]
     },
     "metadata": {},
     "output_type": "display_data"
    }
   ],
   "source": [
    "plt.boxplot(state['Population'])\n",
    "plt.show()"
   ]
  },
  {
   "cell_type": "code",
   "execution_count": 13,
   "id": "bb9986b7-c73d-40e8-aa74-bd6707a4b575",
   "metadata": {},
   "outputs": [
    {
     "data": {
      "image/png": "[encoded data removed]",
      "text/plain": [
       "<Figure size 640x480 with 1 Axes>"
      ]
     },
     "metadata": {},
     "output_type": "display_data"
    }
   ],
   "source": [
    "X=state['Population']\n",
    "\n",
    "plt.boxplot(X)\n",
    "plt.show()"
   ]
  },
  {
   "cell_type": "markdown",
   "id": "2a9f1b8c-5c0c-48b2-800b-49270c139e20",
   "metadata": {},
   "source": [
    "### Frequency Tables and Histograms "
   ]
  },
  {
   "cell_type": "markdown",
   "id": "67f2f295-f204-4525-9e4c-9734f165894e",
   "metadata": {},
   "source": [
    "- The function pandas.cut creates a series that maps the values into the segments.\n",
    "- Using the method value_counts, we get the frequency table"
   ]
  },
  {
   "cell_type": "code",
   "execution_count": 14,
   "id": "16299a26-3dba-4fa7-90fd-bfa75678f8df",
   "metadata": {},
   "outputs": [
    {
     "data": {
      "text/plain": [
       "0       (4232659.0, 7901692.0]\n",
       "1       (526935.67, 4232659.0]\n",
       "2       (4232659.0, 7901692.0]\n",
       "3       (526935.67, 4232659.0]\n",
       "4     (33584923.0, 37253956.0]\n",
       "5       (4232659.0, 7901692.0]\n",
       "6       (526935.67, 4232659.0]\n",
       "7       (526935.67, 4232659.0]\n",
       "8     (15239758.0, 18908791.0]\n",
       "9      (7901692.0, 11570725.0]\n",
       "10      (526935.67, 4232659.0]\n",
       "11      (526935.67, 4232659.0]\n",
       "12    (11570725.0, 15239758.0]\n",
       "13      (4232659.0, 7901692.0]\n",
       "14      (526935.67, 4232659.0]\n",
       "15      (526935.67, 4232659.0]\n",
       "16      (4232659.0, 7901692.0]\n",
       "17      (4232659.0, 7901692.0]\n",
       "18      (526935.67, 4232659.0]\n",
       "19      (4232659.0, 7901692.0]\n",
       "20      (4232659.0, 7901692.0]\n",
       "21     (7901692.0, 11570725.0]\n",
       "22      (4232659.0, 7901692.0]\n",
       "23      (526935.67, 4232659.0]\n",
       "24      (4232659.0, 7901692.0]\n",
       "25      (526935.67, 4232659.0]\n",
       "26      (526935.67, 4232659.0]\n",
       "27      (526935.67, 4232659.0]\n",
       "28      (526935.67, 4232659.0]\n",
       "29     (7901692.0, 11570725.0]\n",
       "30      (526935.67, 4232659.0]\n",
       "31    (18908791.0, 22577824.0]\n",
       "32     (7901692.0, 11570725.0]\n",
       "33      (526935.67, 4232659.0]\n",
       "34     (7901692.0, 11570725.0]\n",
       "35      (526935.67, 4232659.0]\n",
       "36      (526935.67, 4232659.0]\n",
       "37    (11570725.0, 15239758.0]\n",
       "38      (526935.67, 4232659.0]\n",
       "39      (4232659.0, 7901692.0]\n",
       "40      (526935.67, 4232659.0]\n",
       "41      (4232659.0, 7901692.0]\n",
       "42    (22577824.0, 26246857.0]\n",
       "43      (526935.67, 4232659.0]\n",
       "44      (526935.67, 4232659.0]\n",
       "45     (7901692.0, 11570725.0]\n",
       "46      (4232659.0, 7901692.0]\n",
       "47      (526935.67, 4232659.0]\n",
       "48      (4232659.0, 7901692.0]\n",
       "49      (526935.67, 4232659.0]\n",
       "Name: Population, dtype: category\n",
       "Categories (10, interval[float64, right]): [(526935.67, 4232659.0] < (4232659.0, 7901692.0] < (7901692.0, 11570725.0] < (11570725.0, 15239758.0] ... (22577824.0, 26246857.0] < (26246857.0, 29915890.0] < (29915890.0, 33584923.0] < (33584923.0, 37253956.0]]"
      ]
     },
     "execution_count": 14,
     "metadata": {},
     "output_type": "execute_result"
    }
   ],
   "source": [
    "binnedPopulation = pd.cut(state['Population'],10)\n",
    "binnedPopulation"
   ]
  },
  {
   "cell_type": "code",
   "execution_count": 15,
   "id": "291d386c-c08a-4817-99f5-68fb1a57640c",
   "metadata": {},
   "outputs": [
    {
     "data": {
      "text/plain": [
       "Population\n",
       "(526935.67, 4232659.0]      24\n",
       "(4232659.0, 7901692.0]      14\n",
       "(7901692.0, 11570725.0]      6\n",
       "(11570725.0, 15239758.0]     2\n",
       "(15239758.0, 18908791.0]     1\n",
       "(18908791.0, 22577824.0]     1\n",
       "(22577824.0, 26246857.0]     1\n",
       "(33584923.0, 37253956.0]     1\n",
       "(26246857.0, 29915890.0]     0\n",
       "(29915890.0, 33584923.0]     0\n",
       "Name: count, dtype: int64"
      ]
     },
     "execution_count": 15,
     "metadata": {},
     "output_type": "execute_result"
    }
   ],
   "source": [
    "# Frequency Table \n",
    "\n",
    "binnedPopulation.value_counts()"
   ]
  },
  {
   "cell_type": "markdown",
   "id": "7a4d1c6e-a700-4404-9e66-73fa01bed91a",
   "metadata": {},
   "source": [
    "#### How frequency is decided\n",
    "-  The least populous state is Wyoming, with 563,626 people, and the most populous is\n",
    "California, with 37,253,956 people. This gives us a range of 37,253,956 – 563,626 =\n",
    "36,690,330, which we must divide up into equal size bins—let’s say 10 bins. With 10\n",
    "equal size bins, each bin will have a width of 3,669,033, so the first bin will span from\n",
    "563,626 to 4,232,658\n",
    "\n",
    "- It is important to include the empty bins; the fact that there are no values\n",
    "in those bins is useful information. It can also be useful to experiment with different\n",
    "bin sizes. If they are too large, important features of the distribution can be obscured.\n",
    "If they are too small, the result is too granular, and the ability to see the bigger picture\n",
    "is lost"
   ]
  },
  {
   "cell_type": "code",
   "execution_count": 24,
   "id": "dd2b5f8a-cd4d-48cb-91e5-2ec0553ca558",
   "metadata": {},
   "outputs": [
    {
     "data": {
      "text/plain": [
       "Text(0.5, 0, 'Population (millions)')"
      ]
     },
     "execution_count": 24,
     "metadata": {},
     "output_type": "execute_result"
    },
    {
     "data": {
      "image/png": "[encoded data removed]",
      "text/plain": [
       "<Figure size 400x400 with 1 Axes>"
      ]
     },
     "metadata": {},
     "output_type": "display_data"
    }
   ],
   "source": [
    "ax=(state['Population']/1_000_000).plot.hist(figsize=(4,4))\n",
    "ax.set_xlabel('Population (millions)')"
   ]
  },
  {
   "cell_type": "markdown",
   "id": "7a5c6bc0-3fec-4105-a136-faa58f67768c",
   "metadata": {},
   "source": [
    "#### Density Plots and Estimates "
   ]
  },
  {
   "cell_type": "markdown",
   "id": "714237f8-70aa-46d8-b6ef-60d688dd931d",
   "metadata": {},
   "source": [
    "- Kernal desity estimate"
   ]
  },
  {
   "cell_type": "code",
   "execution_count": 17,
   "id": "7f8f931a-cbb1-4fd4-a95c-040d99851a03",
   "metadata": {},
   "outputs": [
    {
     "data": {
      "text/plain": [
       "Text(0.5, 0, 'Murder Rate (per 100,000)')"
      ]
     },
     "execution_count": 17,
     "metadata": {},
     "output_type": "execute_result"
    },
    {
     "data": {
      "image/png": "[encoded data removed]",
      "text/plain": [
       "<Figure size 640x480 with 1 Axes>"
      ]
     },
     "metadata": {},
     "output_type": "display_data"
    }
   ],
   "source": [
    " ax=state['Murder.Rate'].plot.hist(density=True,xlim=[0,12],bins=range(1,12))\n",
    "state['Murder.Rate'].plot.density(ax=ax) # ax=ax will cause the plot to be added to the same graph \n",
    "ax.set_xlabel('Murder Rate (per 100,000)')"
   ]
  },
  {
   "cell_type": "markdown",
   "id": "a0fb1af2-228d-48e1-b9f3-d16f6024bedb",
   "metadata": {},
   "source": [
    "Total area under the curve is 1"
   ]
  },
  {
   "cell_type": "markdown",
   "id": "58c3a114-d791-416c-be11-459e3cb68a13",
   "metadata": {},
   "source": [
    " ## Exploring Binary and Categorical Data "
   ]
  },
  {
   "cell_type": "code",
   "execution_count": 18,
   "id": "2be66ae2-5bda-434e-bda9-610d050d43c5",
   "metadata": {},
   "outputs": [],
   "source": [
    "dfw=pd.read_csv('dfw_airline.csv')"
   ]
  },
  {
   "cell_type": "markdown",
   "id": "2a156fe1-2b1c-4e75-8be6-b91591ec874d",
   "metadata": {},
   "source": [
    " ### Bar Chart"
   ]
  },
  {
   "cell_type": "code",
   "execution_count": 19,
   "id": "21aff29f-b985-48a0-8494-f39fbd7fc8cc",
   "metadata": {},
   "outputs": [
    {
     "data": {
      "text/plain": [
       "Text(0, 0.5, 'Count')"
      ]
     },
     "execution_count": 19,
     "metadata": {},
     "output_type": "execute_result"
    },
    {
     "data": {
      "image/png": "[encoded data removed]",
      "text/plain": [
       "<Figure size 400x400 with 1 Axes>"
      ]
     },
     "metadata": {},
     "output_type": "display_data"
    }
   ],
   "source": [
    "ax=dfw.transpose().plot.bar(figsize=(4,4),legend=False)\n",
    "ax.set_xlabel('Cause of delay')\n",
    "ax.set_ylabel('Count')"
   ]
  },
  {
   "cell_type": "markdown",
   "id": "6583a15d-be1f-4455-85c5-08d9766ea2a7",
   "metadata": {},
   "source": [
    "### Correlaion , Heat Map \n"
   ]
  },
  {
   "cell_type": "code",
   "execution_count": 8,
   "id": "6ddfcd4c-314e-4f75-9f3d-eb3a464249dd",
   "metadata": {},
   "outputs": [
    {
     "data": {
      "text/html": [
       "<div>\n",
       "<style scoped>\n",
       "    .dataframe tbody tr th:only-of-type {\n",
       "        vertical-align: middle;\n",
       "    }\n",
       "\n",
       "    .dataframe tbody tr th {\n",
       "        vertical-align: top;\n",
       "    }\n",
       "\n",
       "    .dataframe thead th {\n",
       "        text-align: right;\n",
       "    }\n",
       "</style>\n",
       "<table border=\"1\" class=\"dataframe\">\n",
       "  <thead>\n",
       "    <tr style=\"text-align: right;\">\n",
       "      <th></th>\n",
       "      <th>ADS</th>\n",
       "      <th>CA</th>\n",
       "      <th>MSFT</th>\n",
       "      <th>RHT</th>\n",
       "      <th>CTSH</th>\n",
       "      <th>CSC</th>\n",
       "      <th>EMC</th>\n",
       "      <th>IBM</th>\n",
       "      <th>XRX</th>\n",
       "      <th>ALTR</th>\n",
       "      <th>...</th>\n",
       "      <th>WAT</th>\n",
       "      <th>ALXN</th>\n",
       "      <th>AMGN</th>\n",
       "      <th>BXLT</th>\n",
       "      <th>BIIB</th>\n",
       "      <th>CELG</th>\n",
       "      <th>GILD</th>\n",
       "      <th>REGN</th>\n",
       "      <th>VRTX</th>\n",
       "      <th>HSIC</th>\n",
       "    </tr>\n",
       "  </thead>\n",
       "  <tbody>\n",
       "    <tr>\n",
       "      <th>1993-01-29</th>\n",
       "      <td>0.0</td>\n",
       "      <td>0.060124</td>\n",
       "      <td>-0.022100</td>\n",
       "      <td>0.0</td>\n",
       "      <td>0.0</td>\n",
       "      <td>0.018897</td>\n",
       "      <td>0.007368</td>\n",
       "      <td>0.092165</td>\n",
       "      <td>0.259140</td>\n",
       "      <td>-0.007105</td>\n",
       "      <td>...</td>\n",
       "      <td>0.0</td>\n",
       "      <td>0.0</td>\n",
       "      <td>0.34716</td>\n",
       "      <td>0.0</td>\n",
       "      <td>0.04167</td>\n",
       "      <td>0.00000</td>\n",
       "      <td>0.015564</td>\n",
       "      <td>1.75</td>\n",
       "      <td>0.1250</td>\n",
       "      <td>0.0</td>\n",
       "    </tr>\n",
       "    <tr>\n",
       "      <th>1993-02-01</th>\n",
       "      <td>0.0</td>\n",
       "      <td>-0.180389</td>\n",
       "      <td>0.027621</td>\n",
       "      <td>0.0</td>\n",
       "      <td>0.0</td>\n",
       "      <td>0.018889</td>\n",
       "      <td>0.018425</td>\n",
       "      <td>0.115207</td>\n",
       "      <td>-0.100775</td>\n",
       "      <td>0.063893</td>\n",
       "      <td>...</td>\n",
       "      <td>0.0</td>\n",
       "      <td>0.0</td>\n",
       "      <td>-0.23144</td>\n",
       "      <td>0.0</td>\n",
       "      <td>0.00000</td>\n",
       "      <td>-0.01041</td>\n",
       "      <td>0.007782</td>\n",
       "      <td>1.25</td>\n",
       "      <td>0.1250</td>\n",
       "      <td>0.0</td>\n",
       "    </tr>\n",
       "    <tr>\n",
       "      <th>1993-02-02</th>\n",
       "      <td>0.0</td>\n",
       "      <td>-0.120257</td>\n",
       "      <td>0.035900</td>\n",
       "      <td>0.0</td>\n",
       "      <td>0.0</td>\n",
       "      <td>-0.075573</td>\n",
       "      <td>0.029482</td>\n",
       "      <td>-0.023041</td>\n",
       "      <td>0.028796</td>\n",
       "      <td>-0.014192</td>\n",
       "      <td>...</td>\n",
       "      <td>0.0</td>\n",
       "      <td>0.0</td>\n",
       "      <td>-0.11572</td>\n",
       "      <td>0.0</td>\n",
       "      <td>0.00000</td>\n",
       "      <td>0.00000</td>\n",
       "      <td>-0.007792</td>\n",
       "      <td>-0.25</td>\n",
       "      <td>0.0000</td>\n",
       "      <td>0.0</td>\n",
       "    </tr>\n",
       "    <tr>\n",
       "      <th>1993-02-03</th>\n",
       "      <td>0.0</td>\n",
       "      <td>0.060124</td>\n",
       "      <td>-0.024857</td>\n",
       "      <td>0.0</td>\n",
       "      <td>0.0</td>\n",
       "      <td>-0.151128</td>\n",
       "      <td>0.003689</td>\n",
       "      <td>-0.253454</td>\n",
       "      <td>-0.043190</td>\n",
       "      <td>-0.007105</td>\n",
       "      <td>...</td>\n",
       "      <td>0.0</td>\n",
       "      <td>0.0</td>\n",
       "      <td>-0.08679</td>\n",
       "      <td>0.0</td>\n",
       "      <td>0.04167</td>\n",
       "      <td>-0.04167</td>\n",
       "      <td>-0.038919</td>\n",
       "      <td>-0.50</td>\n",
       "      <td>0.0625</td>\n",
       "      <td>0.0</td>\n",
       "    </tr>\n",
       "    <tr>\n",
       "      <th>1993-02-04</th>\n",
       "      <td>0.0</td>\n",
       "      <td>-0.360770</td>\n",
       "      <td>-0.060757</td>\n",
       "      <td>0.0</td>\n",
       "      <td>0.0</td>\n",
       "      <td>0.113350</td>\n",
       "      <td>-0.022114</td>\n",
       "      <td>0.069862</td>\n",
       "      <td>0.000000</td>\n",
       "      <td>-0.007096</td>\n",
       "      <td>...</td>\n",
       "      <td>0.0</td>\n",
       "      <td>0.0</td>\n",
       "      <td>0.14465</td>\n",
       "      <td>0.0</td>\n",
       "      <td>-0.04166</td>\n",
       "      <td>-0.03126</td>\n",
       "      <td>-0.046711</td>\n",
       "      <td>0.00</td>\n",
       "      <td>0.0625</td>\n",
       "      <td>0.0</td>\n",
       "    </tr>\n",
       "  </tbody>\n",
       "</table>\n",
       "<p>5 rows × 517 columns</p>\n",
       "</div>"
      ],
      "text/plain": [
       "            ADS        CA      MSFT  RHT  CTSH       CSC       EMC       IBM  \\\n",
       "1993-01-29  0.0  0.060124 -0.022100  0.0   0.0  0.018897  0.007368  0.092165   \n",
       "1993-02-01  0.0 -0.180389  0.027621  0.0   0.0  0.018889  0.018425  0.115207   \n",
       "1993-02-02  0.0 -0.120257  0.035900  0.0   0.0 -0.075573  0.029482 -0.023041   \n",
       "1993-02-03  0.0  0.060124 -0.024857  0.0   0.0 -0.151128  0.003689 -0.253454   \n",
       "1993-02-04  0.0 -0.360770 -0.060757  0.0   0.0  0.113350 -0.022114  0.069862   \n",
       "\n",
       "                 XRX      ALTR  ...  WAT  ALXN     AMGN  BXLT     BIIB  \\\n",
       "1993-01-29  0.259140 -0.007105  ...  0.0   0.0  0.34716   0.0  0.04167   \n",
       "1993-02-01 -0.100775  0.063893  ...  0.0   0.0 -0.23144   0.0  0.00000   \n",
       "1993-02-02  0.028796 -0.014192  ...  0.0   0.0 -0.11572   0.0  0.00000   \n",
       "1993-02-03 -0.043190 -0.007105  ...  0.0   0.0 -0.08679   0.0  0.04167   \n",
       "1993-02-04  0.000000 -0.007096  ...  0.0   0.0  0.14465   0.0 -0.04166   \n",
       "\n",
       "               CELG      GILD  REGN    VRTX  HSIC  \n",
       "1993-01-29  0.00000  0.015564  1.75  0.1250   0.0  \n",
       "1993-02-01 -0.01041  0.007782  1.25  0.1250   0.0  \n",
       "1993-02-02  0.00000 -0.007792 -0.25  0.0000   0.0  \n",
       "1993-02-03 -0.04167 -0.038919 -0.50  0.0625   0.0  \n",
       "1993-02-04 -0.03126 -0.046711  0.00  0.0625   0.0  \n",
       "\n",
       "[5 rows x 517 columns]"
      ]
     },
     "execution_count": 8,
     "metadata": {},
     "output_type": "execute_result"
    }
   ],
   "source": [
    "sp500_px=pd.read_csv('sp500_data.csv',index_col=0)\n",
    "sp500_sym=pd.read_csv('sp500_sectors.csv')\n",
    "\n",
    "sp500_sym.head()\n",
    "sp500_px.head()"
   ]
  },
  {
   "cell_type": "code",
   "execution_count": 5,
   "id": "9f6f87d7-5b64-4094-be20-20e94c7bb3df",
   "metadata": {},
   "outputs": [
    {
     "data": {
      "text/plain": [
       "<Axes: >"
      ]
     },
     "execution_count": 5,
     "metadata": {},
     "output_type": "execute_result"
    },
    {
     "data": {
      "image/png": "[encoded data removed]",
      "text/plain": [
       "<Figure size 1200x1500 with 2 Axes>"
      ]
     },
     "metadata": {},
     "output_type": "display_data"
    }
   ],
   "source": [
    "# Heat map\n",
    "\n",
    "etfs=sp500_px.loc[sp500_px.index>'2012-07-01',\n",
    "                  sp500_sym[sp500_sym['sector']=='etf']['symbol']]\n",
    "\n",
    "plt.figure(figsize=(12,15))\n",
    "sns.heatmap(etfs.corr(),vmin=-1,vmax=1,\n",
    "            cmap=sns.diverging_palette(20,220,as_cmap=True))\n"
   ]
  },
  {
   "cell_type": "code",
   "execution_count": null,
   "id": "5451baaa-76df-462f-92e1-33bd5ecb5364",
   "metadata": {},
   "outputs": [],
   "source": []
  },
  {
   "cell_type": "markdown",
   "id": "ab478d8d-6a70-43f3-aa43-b17ad797fca9",
   "metadata": {},
   "source": [
    "### Scatterplots"
   ]
  },
  {
   "cell_type": "code",
   "execution_count": 6,
   "id": "6dfe047a-9c36-4374-8700-2e356258be1d",
   "metadata": {},
   "outputs": [
    {
     "ename": "NameError",
     "evalue": "name 'telecom' is not defined",
     "output_type": "error",
     "traceback": [
      "\u001b[1;31m---------------------------------------------------------------------------\u001b[0m",
      "\u001b[1;31mNameError\u001b[0m                                 Traceback (most recent call last)",
      "Cell \u001b[1;32mIn[6], line 1\u001b[0m\n\u001b[1;32m----> 1\u001b[0m ax\u001b[38;5;241m=\u001b[39mtelecom\u001b[38;5;241m.\u001b[39mplot\u001b[38;5;241m.\u001b[39mscatter(x\u001b[38;5;241m=\u001b[39m\u001b[38;5;124m'\u001b[39m\u001b[38;5;124mT\u001b[39m\u001b[38;5;124m'\u001b[39m,y\u001b[38;5;241m=\u001b[39m\u001b[38;5;124m'\u001b[39m\u001b[38;5;124mVZ\u001b[39m\u001b[38;5;124m'\u001b[39m,figsize\u001b[38;5;241m=\u001b[39m(\u001b[38;5;241m4\u001b[39m,\u001b[38;5;241m4\u001b[39m),marker\u001b[38;5;241m=\u001b[39m\u001b[38;5;124m'\u001b[39m\u001b[38;5;124m$\u001b[39m\u001b[38;5;130;01m\\u25EF\u001b[39;00m\u001b[38;5;124m$\u001b[39m\u001b[38;5;124m'\u001b[39m)\n\u001b[0;32m      2\u001b[0m ax\u001b[38;5;241m=\u001b[39mset_xlabel(\u001b[38;5;124m'\u001b[39m\u001b[38;5;124mATT (T)\u001b[39m\u001b[38;5;124m'\u001b[39m)\n\u001b[0;32m      3\u001b[0m ax\u001b[38;5;241m.\u001b[39mset_ylabel(\u001b[38;5;124m'\u001b[39m\u001b[38;5;124mVerizon(VZ)\u001b[39m\u001b[38;5;124m'\u001b[39m)\n",
      "\u001b[1;31mNameError\u001b[0m: name 'telecom' is not defined"
     ]
    }
   ],
   "source": [
    "ax=telecom.plot.scatter(x='T',y='VZ',figsize=(4,4),marker='$\\u25EF$')\n",
    "ax=set_xlabel('ATT (T)')\n",
    "ax.set_ylabel('Verizon(VZ)')\n",
    "ax.axhline(0,cplor='grey',lw=1)\n",
    "ax.axvline(0,color='grey',lw=1)"
   ]
  },
  {
   "cell_type": "markdown",
   "id": "b0bc42b7-c942-4cc8-bccc-3a00d08a6bcb",
   "metadata": {},
   "source": [
    "## Exploring Two or More Variables "
   ]
  },
  {
   "cell_type": "markdown",
   "id": "02d1a285-3a21-40b1-85f7-47d40bda7570",
   "metadata": {},
   "source": [
    "### Hexagonal Binning and countours \n",
    "\n",
    "- (Plotting Numeric Versus NUmeric Data)"
   ]
  },
  {
   "cell_type": "code",
   "execution_count": 11,
   "id": "caafc6bc-fca8-4b4e-99a9-46be7fa0e667",
   "metadata": {},
   "outputs": [
    {
     "data": {
      "text/html": [
       "<div>\n",
       "<style scoped>\n",
       "    .dataframe tbody tr th:only-of-type {\n",
       "        vertical-align: middle;\n",
       "    }\n",
       "\n",
       "    .dataframe tbody tr th {\n",
       "        vertical-align: top;\n",
       "    }\n",
       "\n",
       "    .dataframe thead th {\n",
       "        text-align: right;\n",
       "    }\n",
       "</style>\n",
       "<table border=\"1\" class=\"dataframe\">\n",
       "  <thead>\n",
       "    <tr style=\"text-align: right;\">\n",
       "      <th></th>\n",
       "      <th>TaxAssessedValue</th>\n",
       "      <th>SqFtTotLiving</th>\n",
       "      <th>ZipCode</th>\n",
       "    </tr>\n",
       "  </thead>\n",
       "  <tbody>\n",
       "    <tr>\n",
       "      <th>0</th>\n",
       "      <td>NaN</td>\n",
       "      <td>1730</td>\n",
       "      <td>98117.0</td>\n",
       "    </tr>\n",
       "    <tr>\n",
       "      <th>1</th>\n",
       "      <td>206000.0</td>\n",
       "      <td>1870</td>\n",
       "      <td>98002.0</td>\n",
       "    </tr>\n",
       "    <tr>\n",
       "      <th>2</th>\n",
       "      <td>303000.0</td>\n",
       "      <td>1530</td>\n",
       "      <td>98166.0</td>\n",
       "    </tr>\n",
       "    <tr>\n",
       "      <th>3</th>\n",
       "      <td>361000.0</td>\n",
       "      <td>2000</td>\n",
       "      <td>98108.0</td>\n",
       "    </tr>\n",
       "    <tr>\n",
       "      <th>4</th>\n",
       "      <td>459000.0</td>\n",
       "      <td>3150</td>\n",
       "      <td>98108.0</td>\n",
       "    </tr>\n",
       "    <tr>\n",
       "      <th>...</th>\n",
       "      <td>...</td>\n",
       "      <td>...</td>\n",
       "      <td>...</td>\n",
       "    </tr>\n",
       "    <tr>\n",
       "      <th>498244</th>\n",
       "      <td>375000.0</td>\n",
       "      <td>2230</td>\n",
       "      <td>98056.0</td>\n",
       "    </tr>\n",
       "    <tr>\n",
       "      <th>498245</th>\n",
       "      <td>316000.0</td>\n",
       "      <td>1710</td>\n",
       "      <td>98056.0</td>\n",
       "    </tr>\n",
       "    <tr>\n",
       "      <th>498246</th>\n",
       "      <td>340000.0</td>\n",
       "      <td>1930</td>\n",
       "      <td>98056.0</td>\n",
       "    </tr>\n",
       "    <tr>\n",
       "      <th>498247</th>\n",
       "      <td>132000.0</td>\n",
       "      <td>2930</td>\n",
       "      <td>98056.0</td>\n",
       "    </tr>\n",
       "    <tr>\n",
       "      <th>498248</th>\n",
       "      <td>286000.0</td>\n",
       "      <td>1310</td>\n",
       "      <td>98056.0</td>\n",
       "    </tr>\n",
       "  </tbody>\n",
       "</table>\n",
       "<p>498249 rows × 3 columns</p>\n",
       "</div>"
      ],
      "text/plain": [
       "        TaxAssessedValue  SqFtTotLiving  ZipCode\n",
       "0                    NaN           1730  98117.0\n",
       "1               206000.0           1870  98002.0\n",
       "2               303000.0           1530  98166.0\n",
       "3               361000.0           2000  98108.0\n",
       "4               459000.0           3150  98108.0\n",
       "...                  ...            ...      ...\n",
       "498244          375000.0           2230  98056.0\n",
       "498245          316000.0           1710  98056.0\n",
       "498246          340000.0           1930  98056.0\n",
       "498247          132000.0           2930  98056.0\n",
       "498248          286000.0           1310  98056.0\n",
       "\n",
       "[498249 rows x 3 columns]"
      ]
     },
     "execution_count": 11,
     "metadata": {},
     "output_type": "execute_result"
    }
   ],
   "source": [
    "kc_tax=pd.read_csv('kc_tax.csv')\n",
    "kc_tax"
   ]
  },
  {
   "cell_type": "code",
   "execution_count": 13,
   "id": "eac1690c-7569-45e4-9ad1-657d25949d97",
   "metadata": {},
   "outputs": [
    {
     "data": {
      "text/plain": [
       "(432693, 3)"
      ]
     },
     "execution_count": 13,
     "metadata": {},
     "output_type": "execute_result"
    }
   ],
   "source": [
    "# Filtering the data set \n",
    "\n",
    "kc_tax0=kc_tax.loc[(kc_tax.TaxAssessedValue<750000)&\n",
    "                      (kc_tax.SqFtTotLiving>100) &\n",
    "                      (kc_tax.SqFtTotLiving<3500),:]\n",
    "\n",
    "kc_tax0.shape\n"
   ]
  },
  {
   "cell_type": "code",
   "execution_count": null,
   "id": "6500223e-c994-4479-a53a-136ff0a7b52c",
   "metadata": {},
   "outputs": [],
   "source": [
    "# Hexagonal Binning \n",
    "\n",
    "ax=kc"
   ]
  },
  {
   "cell_type": "code",
   "execution_count": null,
   "id": "0c98fa63-3e10-4553-8100-91c45ba968f4",
   "metadata": {},
   "outputs": [],
   "source": []
  },
  {
   "cell_type": "code",
   "execution_count": null,
   "id": "7deed0bf-3e7b-497f-baa2-13b810b047b9",
   "metadata": {},
   "outputs": [],
   "source": []
  },
  {
   "cell_type": "code",
   "execution_count": null,
   "id": "b9654574-55c6-4230-a3ac-87ad1770ae0e",
   "metadata": {},
   "outputs": [],
   "source": []
  },
  {
   "cell_type": "code",
   "execution_count": null,
   "id": "8d9989a9-25ee-43e3-8c2b-125bae9cdc97",
   "metadata": {},
   "outputs": [],
   "source": []
  },
  {
   "cell_type": "code",
   "execution_count": null,
   "id": "d16ac2b6-1dd2-419b-8521-91d8e622d198",
   "metadata": {},
   "outputs": [],
   "source": []
  },
  {
   "cell_type": "code",
   "execution_count": null,
   "id": "4e9202cb-30f4-4063-81f3-159ab8e6d3de",
   "metadata": {},
   "outputs": [],
   "source": []
  },
  {
   "cell_type": "code",
   "execution_count": null,
   "id": "582cef78-72c4-44b6-831a-f4061267ab01",
   "metadata": {},
   "outputs": [],
   "source": []
  },
  {
   "cell_type": "code",
   "execution_count": null,
   "id": "2cd332c8-6426-4561-9e14-b500cad8a78c",
   "metadata": {},
   "outputs": [],
   "source": []
  }
 ],
 "metadata": {
  "kernelspec": {
   "display_name": "Python 3 (ipykernel)",
   "language": "python",
   "name": "python3"
  },
  "language_info": {
   "codemirror_mode": {
    "name": "ipython",
    "version": 3
   },
   "file_extension": ".py",
   "mimetype": "text/x-python",
   "name": "python",
   "nbconvert_exporter": "python",
   "pygments_lexer": "ipython3",
   "version": "3.11.7"
  }
 },
 "nbformat": 4,
 "nbformat_minor": 5
}
