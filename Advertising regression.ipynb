{
 "cells": [
  {
   "cell_type": "markdown",
   "metadata": {},
   "source": [
    "The columns \"TV\", \"radio\" and \"newspaper\" are in `1000$` and the column \"sales\" is in `million$`"
   ]
  },
  {
   "cell_type": "markdown",
   "metadata": {
    "colab": {
     "base_uri": "https://localhost:8080/"
    },
    "id": "h6eC9g6fqx1i",
    "outputId": "b62eabc6-3bd5-471d-850f-733c689de27a"
   },
   "source": [
    "**Importing necessary libraries**"
   ]
  },
  {
   "cell_type": "code",
   "execution_count": 2,
   "metadata": {
    "id": "ji6_ZJD-vReU"
   },
   "outputs": [],
   "source": [
    "import pandas as pd\n",
    "import numpy as np\n",
    "import matplotlib.pyplot as plt\n",
    "import seaborn as sns\n",
    "%matplotlib inline"
   ]
  },
  {
   "cell_type": "markdown",
   "metadata": {},
   "source": [
    "**Importing the dataset**"
   ]
  },
  {
   "cell_type": "code",
   "execution_count": 3,
   "metadata": {
    "id": "2H1ZpmNPuu4E"
   },
   "outputs": [
    {
     "data": {
      "text/html": [
       "<div>\n",
       "<style scoped>\n",
       "    .dataframe tbody tr th:only-of-type {\n",
       "        vertical-align: middle;\n",
       "    }\n",
       "\n",
       "    .dataframe tbody tr th {\n",
       "        vertical-align: top;\n",
       "    }\n",
       "\n",
       "    .dataframe thead th {\n",
       "        text-align: right;\n",
       "    }\n",
       "</style>\n",
       "<table border=\"1\" class=\"dataframe\">\n",
       "  <thead>\n",
       "    <tr style=\"text-align: right;\">\n",
       "      <th></th>\n",
       "      <th>TV</th>\n",
       "      <th>radio</th>\n",
       "      <th>newspaper</th>\n",
       "      <th>sales</th>\n",
       "    </tr>\n",
       "  </thead>\n",
       "  <tbody>\n",
       "    <tr>\n",
       "      <th>1</th>\n",
       "      <td>230.1</td>\n",
       "      <td>37.8</td>\n",
       "      <td>69.2</td>\n",
       "      <td>22.1</td>\n",
       "    </tr>\n",
       "    <tr>\n",
       "      <th>2</th>\n",
       "      <td>44.5</td>\n",
       "      <td>39.3</td>\n",
       "      <td>45.1</td>\n",
       "      <td>10.4</td>\n",
       "    </tr>\n",
       "    <tr>\n",
       "      <th>3</th>\n",
       "      <td>17.2</td>\n",
       "      <td>45.9</td>\n",
       "      <td>69.3</td>\n",
       "      <td>9.3</td>\n",
       "    </tr>\n",
       "    <tr>\n",
       "      <th>4</th>\n",
       "      <td>151.5</td>\n",
       "      <td>41.3</td>\n",
       "      <td>58.5</td>\n",
       "      <td>18.5</td>\n",
       "    </tr>\n",
       "    <tr>\n",
       "      <th>5</th>\n",
       "      <td>180.8</td>\n",
       "      <td>10.8</td>\n",
       "      <td>58.4</td>\n",
       "      <td>12.9</td>\n",
       "    </tr>\n",
       "  </tbody>\n",
       "</table>\n",
       "</div>"
      ],
      "text/plain": [
       "      TV  radio  newspaper  sales\n",
       "1  230.1   37.8       69.2   22.1\n",
       "2   44.5   39.3       45.1   10.4\n",
       "3   17.2   45.9       69.3    9.3\n",
       "4  151.5   41.3       58.5   18.5\n",
       "5  180.8   10.8       58.4   12.9"
      ]
     },
     "execution_count": 3,
     "metadata": {},
     "output_type": "execute_result"
    }
   ],
   "source": [
    "# Units of TV,radio and newspaper are given in thousand dollar and sales is given in million dollar\n",
    "df = pd.read_csv('Advertising.csv',index_col=0)\n",
    "df.head()"
   ]
  },
  {
   "cell_type": "markdown",
   "metadata": {},
   "source": [
    "### EDA"
   ]
  },
  {
   "cell_type": "markdown",
   "metadata": {},
   "source": [
    "We are not going into the details of the EDA process."
   ]
  },
  {
   "cell_type": "code",
   "execution_count": 4,
   "metadata": {
    "colab": {
     "base_uri": "https://localhost:8080/",
     "height": 197
    },
    "id": "ng_0-o8UvPcV",
    "outputId": "b935e90e-5412-4656-d2b6-eab84c566c0e"
   },
   "outputs": [
    {
     "data": {
      "text/html": [
       "<div>\n",
       "<style scoped>\n",
       "    .dataframe tbody tr th:only-of-type {\n",
       "        vertical-align: middle;\n",
       "    }\n",
       "\n",
       "    .dataframe tbody tr th {\n",
       "        vertical-align: top;\n",
       "    }\n",
       "\n",
       "    .dataframe thead th {\n",
       "        text-align: right;\n",
       "    }\n",
       "</style>\n",
       "<table border=\"1\" class=\"dataframe\">\n",
       "  <thead>\n",
       "    <tr style=\"text-align: right;\">\n",
       "      <th></th>\n",
       "      <th>TV</th>\n",
       "      <th>radio</th>\n",
       "      <th>newspaper</th>\n",
       "      <th>sales</th>\n",
       "    </tr>\n",
       "  </thead>\n",
       "  <tbody>\n",
       "    <tr>\n",
       "      <th>count</th>\n",
       "      <td>200.000000</td>\n",
       "      <td>200.000000</td>\n",
       "      <td>200.000000</td>\n",
       "      <td>200.000000</td>\n",
       "    </tr>\n",
       "    <tr>\n",
       "      <th>mean</th>\n",
       "      <td>147.042500</td>\n",
       "      <td>23.264000</td>\n",
       "      <td>30.554000</td>\n",
       "      <td>14.022500</td>\n",
       "    </tr>\n",
       "    <tr>\n",
       "      <th>std</th>\n",
       "      <td>85.854236</td>\n",
       "      <td>14.846809</td>\n",
       "      <td>21.778621</td>\n",
       "      <td>5.217457</td>\n",
       "    </tr>\n",
       "    <tr>\n",
       "      <th>min</th>\n",
       "      <td>0.700000</td>\n",
       "      <td>0.000000</td>\n",
       "      <td>0.300000</td>\n",
       "      <td>1.600000</td>\n",
       "    </tr>\n",
       "    <tr>\n",
       "      <th>25%</th>\n",
       "      <td>74.375000</td>\n",
       "      <td>9.975000</td>\n",
       "      <td>12.750000</td>\n",
       "      <td>10.375000</td>\n",
       "    </tr>\n",
       "    <tr>\n",
       "      <th>50%</th>\n",
       "      <td>149.750000</td>\n",
       "      <td>22.900000</td>\n",
       "      <td>25.750000</td>\n",
       "      <td>12.900000</td>\n",
       "    </tr>\n",
       "    <tr>\n",
       "      <th>75%</th>\n",
       "      <td>218.825000</td>\n",
       "      <td>36.525000</td>\n",
       "      <td>45.100000</td>\n",
       "      <td>17.400000</td>\n",
       "    </tr>\n",
       "    <tr>\n",
       "      <th>max</th>\n",
       "      <td>296.400000</td>\n",
       "      <td>49.600000</td>\n",
       "      <td>114.000000</td>\n",
       "      <td>27.000000</td>\n",
       "    </tr>\n",
       "  </tbody>\n",
       "</table>\n",
       "</div>"
      ],
      "text/plain": [
       "               TV       radio   newspaper       sales\n",
       "count  200.000000  200.000000  200.000000  200.000000\n",
       "mean   147.042500   23.264000   30.554000   14.022500\n",
       "std     85.854236   14.846809   21.778621    5.217457\n",
       "min      0.700000    0.000000    0.300000    1.600000\n",
       "25%     74.375000    9.975000   12.750000   10.375000\n",
       "50%    149.750000   22.900000   25.750000   12.900000\n",
       "75%    218.825000   36.525000   45.100000   17.400000\n",
       "max    296.400000   49.600000  114.000000   27.000000"
      ]
     },
     "execution_count": 4,
     "metadata": {},
     "output_type": "execute_result"
    }
   ],
   "source": [
    "df.describe()"
   ]
  },
  {
   "cell_type": "code",
   "execution_count": 5,
   "metadata": {
    "colab": {
     "base_uri": "https://localhost:8080/"
    },
    "id": "IshjaYSjv2uL",
    "outputId": "09e92f2f-d68c-4208-87f3-a94779d9aca5"
   },
   "outputs": [
    {
     "data": {
      "text/plain": [
       "(200, 4)"
      ]
     },
     "execution_count": 5,
     "metadata": {},
     "output_type": "execute_result"
    }
   ],
   "source": [
    "df.shape # 200 rows and 4 columns"
   ]
  },
  {
   "cell_type": "code",
   "execution_count": 6,
   "metadata": {
    "colab": {
     "base_uri": "https://localhost:8080/"
    },
    "id": "yu7NxEPLk1XB",
    "outputId": "8b6c3f4d-afd5-4a46-fa77-f631c90b82ed"
   },
   "outputs": [
    {
     "data": {
      "text/plain": [
       "TV           False\n",
       "radio        False\n",
       "newspaper    False\n",
       "sales        False\n",
       "dtype: bool"
      ]
     },
     "execution_count": 6,
     "metadata": {},
     "output_type": "execute_result"
    }
   ],
   "source": [
    "df.isna().any()"
   ]
  },
  {
   "cell_type": "code",
   "execution_count": 7,
   "metadata": {
    "colab": {
     "base_uri": "https://localhost:8080/",
     "height": 775
    },
    "id": "QL6tk8lpxfF-",
    "outputId": "005b97d9-eb96-412b-c087-75855885d0bb"
   },
   "outputs": [
    {
     "data": {
      "image/png": "[encoded data removed]",
      "text/plain": [
       "<Figure size 640x480 with 1 Axes>"
      ]
     },
     "metadata": {},
     "output_type": "display_data"
    },
    {
     "data": {
      "image/png": "[encoded data removed]",
      "text/plain": [
       "<Figure size 640x480 with 1 Axes>"
      ]
     },
     "metadata": {},
     "output_type": "display_data"
    },
    {
     "data": {
      "image/png": "[encoded data removed]",
      "text/plain": [
       "<Figure size 640x480 with 1 Axes>"
      ]
     },
     "metadata": {},
     "output_type": "display_data"
    }
   ],
   "source": [
    "\n",
    "plt.scatter(df['TV'],df['sales'],color='blue',edgecolors='yellow',marker='o',alpha=1)\n",
    "plt.xlabel('TV')\n",
    "plt.ylabel(\"SALES\")\n",
    "plt.show()\n",
    "\n",
    "plt.scatter(df['radio'],df['sales'],color='blue',edgecolors='yellow',marker='o',alpha=1)\n",
    "plt.xlabel(\"RADIO\")\n",
    "plt.ylabel(\"SALES\")\n",
    "plt.show()\n",
    "\n",
    "\n",
    "plt.scatter(df['newspaper'],df['sales'],color='blue',edgecolors='yellow',marker='o',alpha=1)\n",
    "plt.xlabel(\"NEWSPAPER\")\n",
    "plt.ylabel(\"SALES\")\n",
    "plt.show()"
   ]
  },
  {
   "cell_type": "code",
   "execution_count": 8,
   "metadata": {},
   "outputs": [
    {
     "data": {
      "text/plain": [
       "(1.6, 27.0)"
      ]
     },
     "execution_count": 8,
     "metadata": {},
     "output_type": "execute_result"
    }
   ],
   "source": [
    "df.sales.min(),df.sales.max()"
   ]
  },
  {
   "cell_type": "markdown",
   "metadata": {},
   "source": [
    "### Simple Linear Regression"
   ]
  },
  {
   "cell_type": "markdown",
   "metadata": {},
   "source": [
    "Since we are performing simple linear regression, only one feature has been taken for prediction."
   ]
  },
  {
   "cell_type": "code",
   "execution_count": 8,
   "metadata": {
    "id": "7r8R_Sl8H9t8"
   },
   "outputs": [],
   "source": [
    "feature_cols = ['TV'] # since we are doing simple linear regression, I have taken only one feature\n",
    "X = df[feature_cols]\n",
    "y = df.sales"
   ]
  },
  {
   "cell_type": "code",
   "execution_count": null,
   "metadata": {},
   "outputs": [],
   "source": []
  },
  {
   "cell_type": "markdown",
   "metadata": {},
   "source": [
    "**Train Test Split**<br>\n",
    "We are splitting the dataset in 70-30 ratio for train-test set."
   ]
  },
  {
   "cell_type": "code",
   "execution_count": 9,
   "metadata": {},
   "outputs": [],
   "source": [
    "# Train-test split \n",
    "from sklearn.model_selection import train_test_split\n",
    "X_train, X_test, y_train, y_test = train_test_split(X, y, test_size=0.3, random_state=42)"
   ]
  },
  {
   "cell_type": "code",
   "execution_count": 11,
   "metadata": {},
   "outputs": [
    {
     "name": "stdout",
     "output_type": "stream",
     "text": [
      "Shape of X_train is (140, 1)\n",
      "Shape of y_train is (140,)\n",
      "Shape of X_test is (60, 1)\n",
      "Shape of y_test is (60,)\n"
     ]
    }
   ],
   "source": [
    "print(f\"Shape of X_train is {X_train.shape}\")\n",
    "print(f\"Shape of y_train is {y_train.shape}\")\n",
    "print(f\"Shape of X_test is {X_test.shape}\")\n",
    "print(f\"Shape of y_test is {y_test.shape}\")"
   ]
  },
  {
   "cell_type": "code",
   "execution_count": 11,
   "metadata": {},
   "outputs": [
    {
     "data": {
      "text/html": [
       "<div>\n",
       "<style scoped>\n",
       "    .dataframe tbody tr th:only-of-type {\n",
       "        vertical-align: middle;\n",
       "    }\n",
       "\n",
       "    .dataframe tbody tr th {\n",
       "        vertical-align: top;\n",
       "    }\n",
       "\n",
       "    .dataframe thead th {\n",
       "        text-align: right;\n",
       "    }\n",
       "</style>\n",
       "<table border=\"1\" class=\"dataframe\">\n",
       "  <thead>\n",
       "    <tr style=\"text-align: right;\">\n",
       "      <th></th>\n",
       "      <th>TV</th>\n",
       "    </tr>\n",
       "  </thead>\n",
       "  <tbody>\n",
       "    <tr>\n",
       "      <th>170</th>\n",
       "      <td>284.3</td>\n",
       "    </tr>\n",
       "    <tr>\n",
       "      <th>98</th>\n",
       "      <td>184.9</td>\n",
       "    </tr>\n",
       "    <tr>\n",
       "      <th>32</th>\n",
       "      <td>112.9</td>\n",
       "    </tr>\n",
       "    <tr>\n",
       "      <th>13</th>\n",
       "      <td>23.8</td>\n",
       "    </tr>\n",
       "    <tr>\n",
       "      <th>36</th>\n",
       "      <td>290.7</td>\n",
       "    </tr>\n",
       "    <tr>\n",
       "      <th>...</th>\n",
       "      <td>...</td>\n",
       "    </tr>\n",
       "    <tr>\n",
       "      <th>107</th>\n",
       "      <td>25.0</td>\n",
       "    </tr>\n",
       "    <tr>\n",
       "      <th>15</th>\n",
       "      <td>204.1</td>\n",
       "    </tr>\n",
       "    <tr>\n",
       "      <th>93</th>\n",
       "      <td>217.7</td>\n",
       "    </tr>\n",
       "    <tr>\n",
       "      <th>180</th>\n",
       "      <td>165.6</td>\n",
       "    </tr>\n",
       "    <tr>\n",
       "      <th>103</th>\n",
       "      <td>280.2</td>\n",
       "    </tr>\n",
       "  </tbody>\n",
       "</table>\n",
       "<p>140 rows × 1 columns</p>\n",
       "</div>"
      ],
      "text/plain": [
       "        TV\n",
       "170  284.3\n",
       "98   184.9\n",
       "32   112.9\n",
       "13    23.8\n",
       "36   290.7\n",
       "..     ...\n",
       "107   25.0\n",
       "15   204.1\n",
       "93   217.7\n",
       "180  165.6\n",
       "103  280.2\n",
       "\n",
       "[140 rows x 1 columns]"
      ]
     },
     "execution_count": 11,
     "metadata": {},
     "output_type": "execute_result"
    }
   ],
   "source": [
    "X_train"
   ]
  },
  {
   "cell_type": "markdown",
   "metadata": {},
   "source": [
    "**Fitting the model to our training data**"
   ]
  },
  {
   "cell_type": "code",
   "execution_count": 12,
   "metadata": {
    "colab": {
     "base_uri": "https://localhost:8080/"
    },
    "id": "CXWnX4M9JEnH",
    "outputId": "13c35f39-8004-4037-9b90-c9b7a79d41c5",
    "scrolled": true
   },
   "outputs": [
    {
     "data": {
      "text/html": [
       "<style>#sk-container-id-1 {color: black;background-color: white;}#sk-container-id-1 pre{padding: 0;}#sk-container-id-1 div.sk-toggleable {background-color: white;}#sk-container-id-1 label.sk-toggleable__label {cursor: pointer;display: block;width: 100%;margin-bottom: 0;padding: 0.3em;box-sizing: border-box;text-align: center;}#sk-container-id-1 label.sk-toggleable__label-arrow:before {content: \"▸\";float: left;margin-right: 0.25em;color: #696969;}#sk-container-id-1 label.sk-toggleable__label-arrow:hover:before {color: black;}#sk-container-id-1 div.sk-estimator:hover label.sk-toggleable__label-arrow:before {color: black;}#sk-container-id-1 div.sk-toggleable__content {max-height: 0;max-width: 0;overflow: hidden;text-align: left;background-color: #f0f8ff;}#sk-container-id-1 div.sk-toggleable__content pre {margin: 0.2em;color: black;border-radius: 0.25em;background-color: #f0f8ff;}#sk-container-id-1 input.sk-toggleable__control:checked~div.sk-toggleable__content {max-height: 200px;max-width: 100%;overflow: auto;}#sk-container-id-1 input.sk-toggleable__control:checked~label.sk-toggleable__label-arrow:before {content: \"▾\";}#sk-container-id-1 div.sk-estimator input.sk-toggleable__control:checked~label.sk-toggleable__label {background-color: #d4ebff;}#sk-container-id-1 div.sk-label input.sk-toggleable__control:checked~label.sk-toggleable__label {background-color: #d4ebff;}#sk-container-id-1 input.sk-hidden--visually {border: 0;clip: rect(1px 1px 1px 1px);clip: rect(1px, 1px, 1px, 1px);height: 1px;margin: -1px;overflow: hidden;padding: 0;position: absolute;width: 1px;}#sk-container-id-1 div.sk-estimator {font-family: monospace;background-color: #f0f8ff;border: 1px dotted black;border-radius: 0.25em;box-sizing: border-box;margin-bottom: 0.5em;}#sk-container-id-1 div.sk-estimator:hover {background-color: #d4ebff;}#sk-container-id-1 div.sk-parallel-item::after {content: \"\";width: 100%;border-bottom: 1px solid gray;flex-grow: 1;}#sk-container-id-1 div.sk-label:hover label.sk-toggleable__label {background-color: #d4ebff;}#sk-container-id-1 div.sk-serial::before {content: \"\";position: absolute;border-left: 1px solid gray;box-sizing: border-box;top: 0;bottom: 0;left: 50%;z-index: 0;}#sk-container-id-1 div.sk-serial {display: flex;flex-direction: column;align-items: center;background-color: white;padding-right: 0.2em;padding-left: 0.2em;position: relative;}#sk-container-id-1 div.sk-item {position: relative;z-index: 1;}#sk-container-id-1 div.sk-parallel {display: flex;align-items: stretch;justify-content: center;background-color: white;position: relative;}#sk-container-id-1 div.sk-item::before, #sk-container-id-1 div.sk-parallel-item::before {content: \"\";position: absolute;border-left: 1px solid gray;box-sizing: border-box;top: 0;bottom: 0;left: 50%;z-index: -1;}#sk-container-id-1 div.sk-parallel-item {display: flex;flex-direction: column;z-index: 1;position: relative;background-color: white;}#sk-container-id-1 div.sk-parallel-item:first-child::after {align-self: flex-end;width: 50%;}#sk-container-id-1 div.sk-parallel-item:last-child::after {align-self: flex-start;width: 50%;}#sk-container-id-1 div.sk-parallel-item:only-child::after {width: 0;}#sk-container-id-1 div.sk-dashed-wrapped {border: 1px dashed gray;margin: 0 0.4em 0.5em 0.4em;box-sizing: border-box;padding-bottom: 0.4em;background-color: white;}#sk-container-id-1 div.sk-label label {font-family: monospace;font-weight: bold;display: inline-block;line-height: 1.2em;}#sk-container-id-1 div.sk-label-container {text-align: center;}#sk-container-id-1 div.sk-container {/* jupyter's `normalize.less` sets `[hidden] { display: none; }` but bootstrap.min.css set `[hidden] { display: none !important; }` so we also need the `!important` here to be able to override the default hidden behavior on the sphinx rendered scikit-learn.org. See: https://github.com/scikit-learn/scikit-learn/issues/21755 */display: inline-block !important;position: relative;}#sk-container-id-1 div.sk-text-repr-fallback {display: none;}</style><div id=\"sk-container-id-1\" class=\"sk-top-container\"><div class=\"sk-text-repr-fallback\"><pre>LinearRegression()</pre><b>In a Jupyter environment, please rerun this cell to show the HTML representation or trust the notebook. <br />On GitHub, the HTML representation is unable to render, please try loading this page with nbviewer.org.</b></div><div class=\"sk-container\" hidden><div class=\"sk-item\"><div class=\"sk-estimator sk-toggleable\"><input class=\"sk-toggleable__control sk-hidden--visually\" id=\"sk-estimator-id-1\" type=\"checkbox\" checked><label for=\"sk-estimator-id-1\" class=\"sk-toggleable__label sk-toggleable__label-arrow\">LinearRegression</label><div class=\"sk-toggleable__content\"><pre>LinearRegression()</pre></div></div></div></div></div>"
      ],
      "text/plain": [
       "LinearRegression()"
      ]
     },
     "execution_count": 12,
     "metadata": {},
     "output_type": "execute_result"
    }
   ],
   "source": [
    "from sklearn.linear_model import LinearRegression\n",
    "lm =  LinearRegression()\n",
    "lm.fit(X_train,y_train)"
   ]
  },
  {
   "cell_type": "markdown",
   "metadata": {},
   "source": [
    "**Checking the intercept and coefficient**"
   ]
  },
  {
   "cell_type": "code",
   "execution_count": 14,
   "metadata": {
    "colab": {
     "base_uri": "https://localhost:8080/"
    },
    "id": "FHaPJA4jJXmW",
    "outputId": "f8c7b820-3f1d-4eec-de83-082449c36695"
   },
   "outputs": [
    {
     "name": "stdout",
     "output_type": "stream",
     "text": [
      "The intercept is 7.23945983075114\n",
      "The coefficient is [0.0464078]\n"
     ]
    }
   ],
   "source": [
    "print(f\"The intercept is {lm.intercept_}\") # Gives the intercept\n",
    "print(f\"The coefficient is {lm.coef_}\") # Gives the coefficient"
   ]
  },
  {
   "cell_type": "markdown",
   "metadata": {},
   "source": [
    "equation\n",
    "\n",
    "y = 0.0464078x + 7.23945983075114"
   ]
  },
  {
   "cell_type": "markdown",
   "metadata": {},
   "source": [
    "**Prediction for train and test dataset**"
   ]
  },
  {
   "cell_type": "code",
   "execution_count": 15,
   "metadata": {
    "colab": {
     "base_uri": "https://localhost:8080/"
    },
    "id": "v7JjyjSKOfUZ",
    "outputId": "6e604608-5743-4292-b393-5497fcb3d164"
   },
   "outputs": [],
   "source": [
    "preds_train = lm.predict(X_train)\n",
    "preds_test = lm.predict(X_test)"
   ]
  },
  {
   "cell_type": "code",
   "execution_count": 16,
   "metadata": {},
   "outputs": [
    {
     "data": {
      "text/plain": [
       "array([20.43319798, 15.82026244, 12.47890069,  8.34396552, 20.73020791,\n",
       "        8.13977119, 20.86479054,  8.10728573, 13.47202766,  8.42749957,\n",
       "       11.89880316, 10.96136556, 15.98268975, 15.45364081, 13.07292056,\n",
       "       16.96653516, 13.87113475, 15.82026244, 17.56055502, 18.45622561,\n",
       "        8.03767403, 12.83159999, 11.40223968, 16.10799082, 10.74324889,\n",
       "       16.2054472 , 11.21660847, 19.62570222,  9.07256801, 19.36581853,\n",
       "        7.85204282, 16.2286511 , 20.99473238, 19.56537208, 17.20321495,\n",
       "       14.18670781, 13.35136737,  9.90790845, 18.38197312, 13.79688227,\n",
       "       15.62999046, 11.7502982 , 17.4723802 , 13.75047447, 19.09201249,\n",
       "       11.7038904 , 10.30701555, 18.34484688, 15.39331066, 18.38197312,\n",
       "        8.07015949, 17.9178951 , 20.40071251, 15.18911634, 16.47925323,\n",
       "       12.95226027, 13.32352269,  8.40429566, 14.82713548, 18.785721  ,\n",
       "       16.63703976,  7.84740204,  7.42973182, 11.59715245, 19.44007101,\n",
       "       17.83436106, 19.01776001, 18.52583731, 18.36805078, 17.82043872,\n",
       "       17.23570041, 18.37269156, 12.22365778, 15.95484507, 16.84123409,\n",
       "        9.23499532, 14.27024185, 13.63909574, 15.7135245 , 17.43989474,\n",
       "       14.50692164, 20.08049868, 16.75305927, 10.34414179, 10.78501591,\n",
       "       11.68068649, 12.81767765, 17.71834155,  8.56672297, 10.4137535 ,\n",
       "       18.76715788, 17.3795646 , 12.3350365 ,  7.63856693, 11.76422054,\n",
       "       17.01758374, 14.87354328, 19.54680896, 20.29861535,  8.48318893,\n",
       "       20.08978024,  8.95190773, 16.83659331, 20.58634372, 12.00554111,\n",
       "       19.43078945, 11.43472514, 16.5117387 , 11.61107479, 17.02222452,\n",
       "       17.78331247, 11.33726876, 18.25667206, 13.56020248, 15.2448057 ,\n",
       "        8.03767403, 10.00536484, 10.70612265, 14.19134859, 14.98028123,\n",
       "        9.30460703, 17.28210821,  9.31388859,  7.27194529, 12.85480389,\n",
       "       15.95948585, 13.51379468, 13.69942589, 12.37680353, 17.1428848 ,\n",
       "        8.11192651, 18.0107107 , 17.37492382, 20.51209124, 12.3350365 ,\n",
       "        8.39965488, 16.71129225, 17.34243835, 14.92459186, 20.24292599])"
      ]
     },
     "execution_count": 16,
     "metadata": {},
     "output_type": "execute_result"
    }
   ],
   "source": [
    "preds_train"
   ]
  },
  {
   "cell_type": "markdown",
   "metadata": {},
   "source": [
    "**Assessing model performance through various metrics**"
   ]
  },
  {
   "cell_type": "code",
   "execution_count": 16,
   "metadata": {
    "id": "pZJzKIRGOrJu"
   },
   "outputs": [
    {
     "name": "stdout",
     "output_type": "stream",
     "text": [
      "RMSE for train data is : 3.3450117024237263\n",
      "R2 for train data is 0.5736021199591975\n",
      "RMSE for test data is : 2.995161304907236\n",
      "R2 for test data is 0.6714477229302764\n"
     ]
    }
   ],
   "source": [
    "from sklearn.metrics import r2_score,mean_squared_error\n",
    "print(f\"RMSE for train data is : {np.sqrt(mean_squared_error(y_train,preds_train))}\")\n",
    "print(f\"R2 for train data is {r2_score(y_train,preds_train)}\")\n",
    "print(f\"RMSE for test data is : {np.sqrt(mean_squared_error(y_test,preds_test))}\")\n",
    "print(f\"R2 for test data is {r2_score(y_test,preds_test)}\")\n"
   ]
  },
  {
   "cell_type": "code",
   "execution_count": 17,
   "metadata": {
    "colab": {
     "base_uri": "https://localhost:8080/",
     "height": 296
    },
    "id": "u1CeQM-AJHKI",
    "outputId": "a5f1dd31-c0fa-45b7-8c94-df80fdbd1732"
   },
   "outputs": [
    {
     "data": {
      "text/plain": [
       "Text(0, 0.5, 'Sales')"
      ]
     },
     "execution_count": 17,
     "metadata": {},
     "output_type": "execute_result"
    },
    {
     "data": {
      "image/png": "[encoded data removed]",
      "text/plain": [
       "<Figure size 640x480 with 1 Axes>"
      ]
     },
     "metadata": {},
     "output_type": "display_data"
    }
   ],
   "source": [
    "sns.regplot(x=np.reshape(X_train,newshape=(140,)),y=np.reshape(y_train,newshape=(140,)))\n",
    "plt.xlabel(\"TV\")\n",
    "plt.ylabel(\"Sales\")"
   ]
  },
  {
   "cell_type": "code",
   "execution_count": 18,
   "metadata": {},
   "outputs": [
    {
     "data": {
      "text/plain": [
       "{'copy_X': True, 'fit_intercept': True, 'n_jobs': None, 'positive': False}"
      ]
     },
     "execution_count": 18,
     "metadata": {},
     "output_type": "execute_result"
    }
   ],
   "source": [
    "lm.get_params()"
   ]
  },
  {
   "cell_type": "markdown",
   "metadata": {},
   "source": [
    "### Simple Linear Regression using statsmodels\n"
   ]
  },
  {
   "cell_type": "code",
   "execution_count": 19,
   "metadata": {},
   "outputs": [],
   "source": [
    "import statsmodels.api as sm\n",
    "x_train = sm.add_constant(X_train)  # This gives the intercept\n",
    "model = sm.OLS(y_train,x_train).fit()"
   ]
  },
  {
   "cell_type": "code",
   "execution_count": 20,
   "metadata": {
    "colab": {
     "base_uri": "https://localhost:8080/"
    },
    "id": "fRV4o0UKP3q4",
    "outputId": "c7a002ca-1f1e-4257-f856-83de1316faa1"
   },
   "outputs": [
    {
     "name": "stdout",
     "output_type": "stream",
     "text": [
      "                            OLS Regression Results                            \n",
      "==============================================================================\n",
      "Dep. Variable:                  sales   R-squared:                       0.574\n",
      "Model:                            OLS   Adj. R-squared:                  0.571\n",
      "Method:                 Least Squares   F-statistic:                     185.6\n",
      "Date:                Tue, 14 May 2024   Prob (F-statistic):           2.55e-27\n",
      "Time:                        08:58:52   Log-Likelihood:                -367.70\n",
      "No. Observations:                 140   AIC:                             739.4\n",
      "Df Residuals:                     138   BIC:                             745.3\n",
      "Df Model:                           1                                         \n",
      "Covariance Type:            nonrobust                                         \n",
      "==============================================================================\n",
      "                 coef    std err          t      P>|t|      [0.025      0.975]\n",
      "------------------------------------------------------------------------------\n",
      "const          7.2395      0.604     11.986      0.000       6.045       8.434\n",
      "TV             0.0464      0.003     13.625      0.000       0.040       0.053\n",
      "==============================================================================\n",
      "Omnibus:                        1.465   Durbin-Watson:                   2.127\n",
      "Prob(Omnibus):                  0.481   Jarque-Bera (JB):                1.379\n",
      "Skew:                          -0.125   Prob(JB):                        0.502\n",
      "Kurtosis:                       2.583   Cond. No.                         376.\n",
      "==============================================================================\n",
      "\n",
      "Notes:\n",
      "[1] Standard Errors assume that the covariance matrix of the errors is correctly specified.\n"
     ]
    }
   ],
   "source": [
    "print(model.summary())"
   ]
  },
  {
   "cell_type": "code",
   "execution_count": 1,
   "metadata": {
    "colab": {
     "base_uri": "https://localhost:8080/",
     "height": 107
    },
    "id": "EOUi_vaFVnTR",
    "outputId": "ad797990-7719-4247-8a18-3672082a59fc"
   },
   "outputs": [],
   "source": [
    "# Write the interpretation from this summary\n"
   ]
  },
  {
   "cell_type": "code",
   "execution_count": null,
   "metadata": {
    "colab": {
     "base_uri": "https://localhost:8080/"
    },
    "id": "6L6SahI2OsyT",
    "outputId": "c16f2584-e7d9-4066-82c0-2c14d3037b42"
   },
   "outputs": [],
   "source": []
  },
  {
   "cell_type": "markdown",
   "metadata": {},
   "source": [
    "## Multiple Linear Regression"
   ]
  },
  {
   "cell_type": "markdown",
   "metadata": {
    "id": "XaD899ugWyBx"
   },
   "source": [
    "**Using multiple linear regression**"
   ]
  },
  {
   "cell_type": "code",
   "execution_count": 1,
   "metadata": {
    "id": "ap1xNd8WW36s"
   },
   "outputs": [
    {
     "ename": "NameError",
     "evalue": "name 'df' is not defined",
     "output_type": "error",
     "traceback": [
      "\u001b[1;31m---------------------------------------------------------------------------\u001b[0m",
      "\u001b[1;31mNameError\u001b[0m                                 Traceback (most recent call last)",
      "Cell \u001b[1;32mIn[1], line 2\u001b[0m\n\u001b[0;32m      1\u001b[0m feature_cols \u001b[38;5;241m=\u001b[39m [\u001b[38;5;124m'\u001b[39m\u001b[38;5;124mTV\u001b[39m\u001b[38;5;124m'\u001b[39m,\u001b[38;5;124m'\u001b[39m\u001b[38;5;124mradio\u001b[39m\u001b[38;5;124m'\u001b[39m,\u001b[38;5;124m'\u001b[39m\u001b[38;5;124mnewspaper\u001b[39m\u001b[38;5;124m'\u001b[39m]\n\u001b[1;32m----> 2\u001b[0m x \u001b[38;5;241m=\u001b[39m \u001b[43mdf\u001b[49m[feature_cols]\n\u001b[0;32m      3\u001b[0m y \u001b[38;5;241m=\u001b[39m df\u001b[38;5;241m.\u001b[39msales\n",
      "\u001b[1;31mNameError\u001b[0m: name 'df' is not defined"
     ]
    }
   ],
   "source": [
    "feature_cols = ['TV','radio','newspaper']\n",
    "x = df[feature_cols]\n",
    "y = df.sales"
   ]
  },
  {
   "cell_type": "markdown",
   "metadata": {},
   "source": [
    "**Train-test split**"
   ]
  },
  {
   "cell_type": "code",
   "execution_count": null,
   "metadata": {
    "id": "HYzoHZdp-EFC"
   },
   "outputs": [],
   "source": [
    "from sklearn import model_selection as ms\n",
    "xtrain,xtest,ytrain,ytest = ms.train_test_split(x,y,test_size=0.3,random_state=42)"
   ]
  },
  {
   "cell_type": "markdown",
   "metadata": {},
   "source": [
    "**Standardizing the dataset**)\n",
    "\n",
    "In Python's scikit-learn library, the StandardScaler module is used for scaling features to zero mean and unit variance. This process is commonly known as standardization and is a critical step in data preprocessing, especially for machine learning algorithms that are sensitive to the scale of input features, like Support Vector Machines (SVMs) and neural networks.\n",
    "\n",
    "How StandardScaler Works:\n",
    "Fit: Compute the mean (μ) and standard deviation (σ) for each feature in the training dataset.\n",
    "Transform: Scale each feature (x) in the dataset to \n",
    "𝑧\n",
    "=\n",
    "(\n",
    "𝑥\n",
    "−\n",
    "𝜇\n",
    ")\n",
    "𝜎\n",
    "z= \n",
    "σ\n",
    "(x−μ)\n",
    "​\n",
    " , where x is a feature value, μ is the mean of the feature, and σ is the standard deviation of the feature. This transformation changes the distribution of the feature to have a mean of zero and a standard deviation of one.\n",
    "Example:\n",
    "Consider a dataset with one feature having values [1, 2, 3]. Here’s how StandardScaler would standardize the data:\n",
    "\n",
    "Mean (μ) = (1+2+3)/3 = 2\n",
    "Standard Deviation (σ) = sqrt([(1-2)^2 + (2-2)^2 + (3-2)^2]/3) = 1\n",
    "Standardized data = [(1-2)/1, (2-2)/1, (3-2)/1] = [-1, 0, 1]\n",
    "By standardizing features, you ensure that the model treats all features equally, especially in terms of their scale, improving the performance and stability of the learning algorithm.\n",
    "\n"
   ]
  },
  {
   "cell_type": "markdown",
   "metadata": {},
   "source": [
    "Certainly! Let's dive deeper into the mechanics and implications of using `StandardScaler` from the `scikit-learn` preprocessing module, particularly focusing on its mathematical basis, practical use cases, and some nuances that affect its performance in real-world applications.\n",
    "\n",
    "### Mathematical Basis\n",
    "\n",
    "The `StandardScaler` performs a process known as **Z-score normalization** or standardization, where the values for each feature in the data are adjusted based on the mean and standard deviation of the feature. The formula for standardizing a value \\( x \\) is given by:\n",
    "\n",
    "\\[\n",
    "z = \\frac{(x - \\mu)}{\\sigma}\n",
    "\\]\n",
    "\n",
    "where:\n",
    "- \\( \\mu \\) is the mean of the feature values.\n",
    "- \\( \\sigma \\) is the standard deviation of the feature values.\n",
    "\n",
    "This formula transforms the data in such a way that the resulting feature has a mean of zero and a standard deviation of one. This transformation is crucial for many machine learning algorithms for several reasons:\n",
    "- **Scale Invariance:** Some algorithms, like SVM and k-means clustering, assume that all features operate on the same scale. If one feature has a range from 0 to 1 and another from 100 to 1000, the latter feature would dominate the learning process.\n",
    "- **Improved Convergence:** Gradient descent, which is used in training models like linear regression and neural networks, converges faster if features are scaled properly.\n",
    "\n",
    "### Practical Use Cases\n",
    "\n",
    "1. **Preprocessing for Machine Learning:** Almost all machine learning algorithms in `scikit-learn` benefit from feature scaling, especially those that use distance calculations or gradients in their computations.\n",
    "2. **Anomaly Detection:** When features are standardized, it becomes easier to identify outliers since a standardized scale means that a deviation of more than a few units is significant.\n",
    "3. **Data Visualization:** Standardizing can help in plotting features on the same scale, making it easier to visualize relationships and patterns.\n",
    "\n",
    "### Implementation in Python\n",
    "\n",
    "Using `StandardScaler` involves two main steps: fitting and transforming. Here's an expanded example:\n",
    "\n",
    "```python\n",
    "from sklearn.preprocessing import StandardScaler\n",
    "import numpy as np\n",
    "\n",
    "# Suppose we have the following dataset\n",
    "data = np.array([[50, 2], [60, 4], [70, 6], [80, 8]])\n",
    "\n",
    "# Initialize the StandardScaler\n",
    "scaler = StandardScaler()\n",
    "\n",
    "# Fit the scaler to the data - this calculates the mean and standard deviation\n",
    "scaler.fit(data)\n",
    "\n",
    "# See the mean and standard deviation\n",
    "print(\"Mean:\", scaler.mean_)\n",
    "print(\"Standard deviation:\", scaler.scale_)\n",
    "\n",
    "# Transform the data using the fitted scaler\n",
    "scaled_data = scaler.transform(data)\n",
    "print(\"Scaled data:\", scaled_data)\n",
    "\n",
    "# Optionally, fit and transform can be done in one step\n",
    "scaled_data_direct = scaler.fit_transform(data)\n",
    "print(\"Directly scaled data:\", scaled_data_direct)\n",
    "```\n",
    "\n",
    "### Nuances and Considerations\n",
    "\n",
    "- **Sensitivity to Outliers:** Since the scaling is influenced by the mean and standard deviation, outliers can skew the transformed data significantly. In such cases, using `RobustScaler`, which uses the median and the quartile range, might be more appropriate.\n",
    "- **Reversibility:** The scaling process is reversible. You can reconstruct the original data using the inverse transform method, which is essential for interpreting model results directly in the original units of measurement.\n",
    "\n",
    "This deeper understanding highlights the importance of correctly applying `StandardScaler` in your data preprocessing pipeline to ensure optimal performance of your machine learning models.\n",
    "\n",
    "\n",
    "Here's an example of how to use StandardScaler in Python:"
   ]
  },
  {
   "cell_type": "code",
   "execution_count": 23,
   "metadata": {},
   "outputs": [
    {
     "ename": "NameError",
     "evalue": "name 'xtrain' is not defined",
     "output_type": "error",
     "traceback": [
      "\u001b[1;31m---------------------------------------------------------------------------\u001b[0m",
      "\u001b[1;31mNameError\u001b[0m                                 Traceback (most recent call last)",
      "Cell \u001b[1;32mIn[23], line 3\u001b[0m\n\u001b[0;32m      1\u001b[0m \u001b[38;5;28;01mfrom\u001b[39;00m \u001b[38;5;21;01msklearn\u001b[39;00m\u001b[38;5;21;01m.\u001b[39;00m\u001b[38;5;21;01mpreprocessing\u001b[39;00m \u001b[38;5;28;01mimport\u001b[39;00m StandardScaler \u001b[38;5;66;03m# fit vs transform vs fit_transform\u001b[39;00m\n\u001b[0;32m      2\u001b[0m scaler \u001b[38;5;241m=\u001b[39m StandardScaler()\n\u001b[1;32m----> 3\u001b[0m scaler\u001b[38;5;241m.\u001b[39mfit(\u001b[43mxtrain\u001b[49m)\n\u001b[0;32m      4\u001b[0m xtrain \u001b[38;5;241m=\u001b[39m scaler\u001b[38;5;241m.\u001b[39mtransform(xtrain)\n\u001b[0;32m      5\u001b[0m xtest \u001b[38;5;241m=\u001b[39m scaler\u001b[38;5;241m.\u001b[39mtransform(xtest)\n",
      "\u001b[1;31mNameError\u001b[0m: name 'xtrain' is not defined"
     ]
    }
   ],
   "source": [
    "from sklearn.preprocessing import StandardScaler # fit vs transform vs fit_transform\n",
    "scaler = StandardScaler()\n",
    "scaler.fit(xtrain)\n",
    "xtrain = scaler.transform(xtrain)\n",
    "xtest = scaler.transform(xtest)"
   ]
  },
  {
   "cell_type": "code",
   "execution_count": 22,
   "metadata": {},
   "outputs": [
    {
     "ename": "NameError",
     "evalue": "name 'xtrain' is not defined",
     "output_type": "error",
     "traceback": [
      "\u001b[1;31m---------------------------------------------------------------------------\u001b[0m",
      "\u001b[1;31mNameError\u001b[0m                                 Traceback (most recent call last)",
      "Cell \u001b[1;32mIn[22], line 1\u001b[0m\n\u001b[1;32m----> 1\u001b[0m \u001b[43mxtrain\u001b[49m\n",
      "\u001b[1;31mNameError\u001b[0m: name 'xtrain' is not defined"
     ]
    }
   ],
   "source": [
    "xtrain"
   ]
  },
  {
   "cell_type": "markdown",
   "metadata": {},
   "source": [
    "**Training the model**"
   ]
  },
  {
   "cell_type": "code",
   "execution_count": 21,
   "metadata": {
    "colab": {
     "base_uri": "https://localhost:8080/"
    },
    "id": "nKfWKyangsa-",
    "outputId": "129b9ac3-5612-4719-aebf-127101912229"
   },
   "outputs": [
    {
     "ename": "NameError",
     "evalue": "name 'xtrain' is not defined",
     "output_type": "error",
     "traceback": [
      "\u001b[1;31m---------------------------------------------------------------------------\u001b[0m",
      "\u001b[1;31mNameError\u001b[0m                                 Traceback (most recent call last)",
      "Cell \u001b[1;32mIn[21], line 2\u001b[0m\n\u001b[0;32m      1\u001b[0m lm \u001b[38;5;241m=\u001b[39m LinearRegression()\n\u001b[1;32m----> 2\u001b[0m lm\u001b[38;5;241m.\u001b[39mfit(\u001b[43mxtrain\u001b[49m,ytrain)\n",
      "\u001b[1;31mNameError\u001b[0m: name 'xtrain' is not defined"
     ]
    }
   ],
   "source": [
    "lm = LinearRegression()\n",
    "lm.fit(xtrain,ytrain)"
   ]
  },
  {
   "cell_type": "markdown",
   "metadata": {},
   "source": [
    "**Checking the intercept and the coefficients**"
   ]
  },
  {
   "cell_type": "code",
   "execution_count": null,
   "metadata": {
    "colab": {
     "base_uri": "https://localhost:8080/"
    },
    "id": "PqU-MWSC_vK-",
    "outputId": "6d592bf8-1175-4c9a-b84e-1320ec0ad236"
   },
   "outputs": [],
   "source": [
    "print(lm.intercept_)\n",
    "print(lm.coef_)"
   ]
  },
  {
   "cell_type": "markdown",
   "metadata": {},
   "source": [
    "**Prediction**"
   ]
  },
  {
   "cell_type": "code",
   "execution_count": null,
   "metadata": {
    "colab": {
     "base_uri": "https://localhost:8080/"
    },
    "id": "gkt8Jjz3g_9-",
    "outputId": "0d689e80-16bf-4c23-d805-6c3fbd086fbf"
   },
   "outputs": [],
   "source": [
    "preds_train = lm.predict(xtrain)\n",
    "preds_test = lm.predict(xtest)"
   ]
  },
  {
   "cell_type": "markdown",
   "metadata": {},
   "source": [
    "**Assessing the model performance through various metrics**"
   ]
  },
  {
   "cell_type": "code",
   "execution_count": 44,
   "metadata": {},
   "outputs": [
    {
     "name": "stdout",
     "output_type": "stream",
     "text": [
      "RMSE for train data is : 1.5745968305905444\n",
      "R2 for train data is 0.9055159502227753\n",
      "RMSE for test data is : 1.9485372043446387\n",
      "R2 for test data is 0.8609466508230368\n"
     ]
    }
   ],
   "source": [
    "from sklearn.metrics import r2_score,mean_squared_error,mean_absolute_error\n",
    "print(f\"RMSE for train data is : {np.sqrt(mean_squared_error(ytrain,preds_train))}\")\n",
    "print(f\"R2 for train data is {r2_score(ytrain,preds_train)}\")\n",
    "print(f\"RMSE for test data is : {np.sqrt(mean_squared_error(ytest,preds_test))}\")\n",
    "print(f\"R2 for test data is {r2_score(ytest,preds_test)}\")\n"
   ]
  },
  {
   "cell_type": "markdown",
   "metadata": {},
   "source": [
    "<b>Note: Now draw comparision between the simple linear regression model and the multiple linear regression model."
   ]
  },
  {
   "cell_type": "markdown",
   "metadata": {},
   "source": [
    "### Multiple Linear Regression using statsmodels"
   ]
  },
  {
   "cell_type": "code",
   "execution_count": 42,
   "metadata": {},
   "outputs": [],
   "source": [
    "import statsmodels.api as sm\n",
    "xtrain = sm.add_constant(xtrain)\n",
    "model = sm.OLS(ytrain,xtrain).fit()"
   ]
  },
  {
   "cell_type": "code",
   "execution_count": 43,
   "metadata": {},
   "outputs": [
    {
     "data": {
      "text/html": [
       "<table class=\"simpletable\">\n",
       "<caption>OLS Regression Results</caption>\n",
       "<tr>\n",
       "  <th>Dep. Variable:</th>          <td>sales</td>      <th>  R-squared:         </th> <td>   0.906</td>\n",
       "</tr>\n",
       "<tr>\n",
       "  <th>Model:</th>                   <td>OLS</td>       <th>  Adj. R-squared:    </th> <td>   0.903</td>\n",
       "</tr>\n",
       "<tr>\n",
       "  <th>Method:</th>             <td>Least Squares</td>  <th>  F-statistic:       </th> <td>   434.5</td>\n",
       "</tr>\n",
       "<tr>\n",
       "  <th>Date:</th>             <td>Thu, 25 Apr 2024</td> <th>  Prob (F-statistic):</th> <td>1.88e-69</td>\n",
       "</tr>\n",
       "<tr>\n",
       "  <th>Time:</th>                 <td>18:06:13</td>     <th>  Log-Likelihood:    </th> <td> -262.21</td>\n",
       "</tr>\n",
       "<tr>\n",
       "  <th>No. Observations:</th>      <td>   140</td>      <th>  AIC:               </th> <td>   532.4</td>\n",
       "</tr>\n",
       "<tr>\n",
       "  <th>Df Residuals:</th>          <td>   136</td>      <th>  BIC:               </th> <td>   544.2</td>\n",
       "</tr>\n",
       "<tr>\n",
       "  <th>Df Model:</th>              <td>     3</td>      <th>                     </th>     <td> </td>   \n",
       "</tr>\n",
       "<tr>\n",
       "  <th>Covariance Type:</th>      <td>nonrobust</td>    <th>                     </th>     <td> </td>   \n",
       "</tr>\n",
       "</table>\n",
       "<table class=\"simpletable\">\n",
       "<tr>\n",
       "    <td></td>       <th>coef</th>     <th>std err</th>      <th>t</th>      <th>P>|t|</th>  <th>[0.025</th>    <th>0.975]</th>  \n",
       "</tr>\n",
       "<tr>\n",
       "  <th>const</th> <td>   14.4971</td> <td>    0.135</td> <td>  107.370</td> <td> 0.000</td> <td>   14.230</td> <td>   14.764</td>\n",
       "</tr>\n",
       "<tr>\n",
       "  <th>x1</th>    <td>    3.6833</td> <td>    0.135</td> <td>   27.219</td> <td> 0.000</td> <td>    3.416</td> <td>    3.951</td>\n",
       "</tr>\n",
       "<tr>\n",
       "  <th>x2</th>    <td>    2.9063</td> <td>    0.144</td> <td>   20.195</td> <td> 0.000</td> <td>    2.622</td> <td>    3.191</td>\n",
       "</tr>\n",
       "<tr>\n",
       "  <th>x3</th>    <td>    0.1419</td> <td>    0.144</td> <td>    0.988</td> <td> 0.325</td> <td>   -0.142</td> <td>    0.426</td>\n",
       "</tr>\n",
       "</table>\n",
       "<table class=\"simpletable\">\n",
       "<tr>\n",
       "  <th>Omnibus:</th>       <td>68.437</td> <th>  Durbin-Watson:     </th> <td>   2.285</td>\n",
       "</tr>\n",
       "<tr>\n",
       "  <th>Prob(Omnibus):</th> <td> 0.000</td> <th>  Jarque-Bera (JB):  </th> <td> 325.342</td>\n",
       "</tr>\n",
       "<tr>\n",
       "  <th>Skew:</th>          <td>-1.709</td> <th>  Prob(JB):          </th> <td>2.25e-71</td>\n",
       "</tr>\n",
       "<tr>\n",
       "  <th>Kurtosis:</th>      <td> 9.640</td> <th>  Cond. No.          </th> <td>    1.44</td>\n",
       "</tr>\n",
       "</table><br/><br/>Notes:<br/>[1] Standard Errors assume that the covariance matrix of the errors is correctly specified."
      ],
      "text/latex": [
       "\\begin{center}\n",
       "\\begin{tabular}{lclc}\n",
       "\\toprule\n",
       "\\textbf{Dep. Variable:}    &      sales       & \\textbf{  R-squared:         } &     0.906   \\\\\n",
       "\\textbf{Model:}            &       OLS        & \\textbf{  Adj. R-squared:    } &     0.903   \\\\\n",
       "\\textbf{Method:}           &  Least Squares   & \\textbf{  F-statistic:       } &     434.5   \\\\\n",
       "\\textbf{Date:}             & Thu, 25 Apr 2024 & \\textbf{  Prob (F-statistic):} &  1.88e-69   \\\\\n",
       "\\textbf{Time:}             &     18:06:13     & \\textbf{  Log-Likelihood:    } &   -262.21   \\\\\n",
       "\\textbf{No. Observations:} &         140      & \\textbf{  AIC:               } &     532.4   \\\\\n",
       "\\textbf{Df Residuals:}     &         136      & \\textbf{  BIC:               } &     544.2   \\\\\n",
       "\\textbf{Df Model:}         &           3      & \\textbf{                     } &             \\\\\n",
       "\\textbf{Covariance Type:}  &    nonrobust     & \\textbf{                     } &             \\\\\n",
       "\\bottomrule\n",
       "\\end{tabular}\n",
       "\\begin{tabular}{lcccccc}\n",
       "               & \\textbf{coef} & \\textbf{std err} & \\textbf{t} & \\textbf{P$> |$t$|$} & \\textbf{[0.025} & \\textbf{0.975]}  \\\\\n",
       "\\midrule\n",
       "\\textbf{const} &      14.4971  &        0.135     &   107.370  &         0.000        &       14.230    &       14.764     \\\\\n",
       "\\textbf{x1}    &       3.6833  &        0.135     &    27.219  &         0.000        &        3.416    &        3.951     \\\\\n",
       "\\textbf{x2}    &       2.9063  &        0.144     &    20.195  &         0.000        &        2.622    &        3.191     \\\\\n",
       "\\textbf{x3}    &       0.1419  &        0.144     &     0.988  &         0.325        &       -0.142    &        0.426     \\\\\n",
       "\\bottomrule\n",
       "\\end{tabular}\n",
       "\\begin{tabular}{lclc}\n",
       "\\textbf{Omnibus:}       & 68.437 & \\textbf{  Durbin-Watson:     } &    2.285  \\\\\n",
       "\\textbf{Prob(Omnibus):} &  0.000 & \\textbf{  Jarque-Bera (JB):  } &  325.342  \\\\\n",
       "\\textbf{Skew:}          & -1.709 & \\textbf{  Prob(JB):          } & 2.25e-71  \\\\\n",
       "\\textbf{Kurtosis:}      &  9.640 & \\textbf{  Cond. No.          } &     1.44  \\\\\n",
       "\\bottomrule\n",
       "\\end{tabular}\n",
       "%\\caption{OLS Regression Results}\n",
       "\\end{center}\n",
       "\n",
       "Notes: \\newline\n",
       " [1] Standard Errors assume that the covariance matrix of the errors is correctly specified."
      ],
      "text/plain": [
       "<class 'statsmodels.iolib.summary.Summary'>\n",
       "\"\"\"\n",
       "                            OLS Regression Results                            \n",
       "==============================================================================\n",
       "Dep. Variable:                  sales   R-squared:                       0.906\n",
       "Model:                            OLS   Adj. R-squared:                  0.903\n",
       "Method:                 Least Squares   F-statistic:                     434.5\n",
       "Date:                Thu, 25 Apr 2024   Prob (F-statistic):           1.88e-69\n",
       "Time:                        18:06:13   Log-Likelihood:                -262.21\n",
       "No. Observations:                 140   AIC:                             532.4\n",
       "Df Residuals:                     136   BIC:                             544.2\n",
       "Df Model:                           3                                         \n",
       "Covariance Type:            nonrobust                                         \n",
       "==============================================================================\n",
       "                 coef    std err          t      P>|t|      [0.025      0.975]\n",
       "------------------------------------------------------------------------------\n",
       "const         14.4971      0.135    107.370      0.000      14.230      14.764\n",
       "x1             3.6833      0.135     27.219      0.000       3.416       3.951\n",
       "x2             2.9063      0.144     20.195      0.000       2.622       3.191\n",
       "x3             0.1419      0.144      0.988      0.325      -0.142       0.426\n",
       "==============================================================================\n",
       "Omnibus:                       68.437   Durbin-Watson:                   2.285\n",
       "Prob(Omnibus):                  0.000   Jarque-Bera (JB):              325.342\n",
       "Skew:                          -1.709   Prob(JB):                     2.25e-71\n",
       "Kurtosis:                       9.640   Cond. No.                         1.44\n",
       "==============================================================================\n",
       "\n",
       "Notes:\n",
       "[1] Standard Errors assume that the covariance matrix of the errors is correctly specified.\n",
       "\"\"\""
      ]
     },
     "execution_count": 43,
     "metadata": {},
     "output_type": "execute_result"
    }
   ],
   "source": [
    "model.summary()"
   ]
  },
  {
   "cell_type": "code",
   "execution_count": 45,
   "metadata": {},
   "outputs": [
    {
     "data": {
      "text/plain": [
       "0.9055159502227753"
      ]
     },
     "execution_count": 45,
     "metadata": {},
     "output_type": "execute_result"
    }
   ],
   "source": [
    "model.rsquared"
   ]
  },
  {
   "cell_type": "code",
   "execution_count": null,
   "metadata": {},
   "outputs": [],
   "source": [
    "# write the interpretation from this summary"
   ]
  },
  {
   "cell_type": "markdown",
   "metadata": {},
   "source": [
    "#### Try fitting the model with \"TV\" and \"radio\" only"
   ]
  },
  {
   "cell_type": "markdown",
   "metadata": {},
   "source": [
    "## Check the assumptions of Linear Regression"
   ]
  },
  {
   "cell_type": "code",
   "execution_count": null,
   "metadata": {},
   "outputs": [],
   "source": []
  }
 ],
 "metadata": {
  "colab": {
   "provenance": []
  },
  "kernelspec": {
   "display_name": "Python 3 (ipykernel)",
   "language": "python",
   "name": "python3"
  },
  "language_info": {
   "codemirror_mode": {
    "name": "ipython",
    "version": 3
   },
   "file_extension": ".py",
   "mimetype": "text/x-python",
   "name": "python",
   "nbconvert_exporter": "python",
   "pygments_lexer": "ipython3",
   "version": "3.11.7"
  }
 },
 "nbformat": 4,
 "nbformat_minor": 4
}
